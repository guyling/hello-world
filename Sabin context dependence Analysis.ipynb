{
 "cells": [
  {
   "cell_type": "markdown",
   "metadata": {},
   "source": [
    "## Regression Analysis of Sabin data "
   ]
  },
  {
   "cell_type": "markdown",
   "metadata": {},
   "source": [
    "This analsys has been done in order to try and determine the context effects\n",
    "of different context on the substitution probability\n",
    "The input data is a csv files of the different K-mers and the $log(Pr(A\\to B|S)$ of substitution rates of each of the passeges.\n",
    "\n",
    "It includes 4 stages:\n",
    "\n",
    "1. Feature extraction- creating a dummy variable for the categorical feature of context in a certain position\n",
    "2. Feature selection- selecting the most important features using the randomized lasso regression method\n",
    "3. Signifcance and effect test- after constructing the regression formula we are applying it in the regression to see if the effect of the motiff is significant also find the $\\beta$ coeffs \n",
    "\n",
    "4.summarize the results across the different mutation types and passeges\n"
   ]
  },
  {
   "cell_type": "markdown",
   "metadata": {},
   "source": []
  },
  {
   "cell_type": "code",
   "execution_count": 113,
   "metadata": {
    "collapsed": true
   },
   "outputs": [],
   "source": [
    "import pandas as pd\n",
    "import itertools\n",
    "import numpy as np\n",
    "from sklearn.ensemble import RandomForestRegressor\n",
    "from treeinterpreter import treeinterpreter as ti\n",
    "from scipy.stats import kendalltau,spearmanr\n",
    "import statsmodels.formula.api as sm\n",
    "from sklearn.linear_model import RandomizedLasso\n",
    "import os\n",
    "import glob\n",
    "import warnings\n",
    "warnings.filterwarnings(\"ignore\")\n",
    "global MUTATIONS\n",
    "MUTATIONS=['AC', 'GT', 'AG', 'CA', 'CG', 'GC', 'AT', 'GA', 'TG', 'CT', 'TC', 'TA']\n"
   ]
  },
  {
   "cell_type": "markdown",
   "metadata": {},
   "source": [
    "Sample of a data file in Passege 7"
   ]
  },
  {
   "cell_type": "code",
   "execution_count": 114,
   "metadata": {
    "collapsed": false,
    "scrolled": true
   },
   "outputs": [
    {
     "data": {
      "text/html": [
       "<div>\n",
       "<table border=\"1\" class=\"dataframe\">\n",
       "  <thead>\n",
       "    <tr style=\"text-align: right;\">\n",
       "      <th></th>\n",
       "      <th>kmer</th>\n",
       "      <th>mutationType</th>\n",
       "      <th>P1</th>\n",
       "      <th>P2</th>\n",
       "      <th>P3</th>\n",
       "      <th>P4</th>\n",
       "      <th>P5</th>\n",
       "      <th>prob</th>\n",
       "      <th>createCpG</th>\n",
       "    </tr>\n",
       "  </thead>\n",
       "  <tbody>\n",
       "    <tr>\n",
       "      <th>0</th>\n",
       "      <td>ACTAA</td>\n",
       "      <td>CT</td>\n",
       "      <td>A</td>\n",
       "      <td>C</td>\n",
       "      <td>C</td>\n",
       "      <td>A</td>\n",
       "      <td>A</td>\n",
       "      <td>-7.819754</td>\n",
       "      <td>False</td>\n",
       "    </tr>\n",
       "    <tr>\n",
       "      <th>1</th>\n",
       "      <td>TTATC</td>\n",
       "      <td>TA</td>\n",
       "      <td>T</td>\n",
       "      <td>T</td>\n",
       "      <td>T</td>\n",
       "      <td>T</td>\n",
       "      <td>C</td>\n",
       "      <td>-20.723266</td>\n",
       "      <td>False</td>\n",
       "    </tr>\n",
       "    <tr>\n",
       "      <th>2</th>\n",
       "      <td>ATAGG</td>\n",
       "      <td>GA</td>\n",
       "      <td>A</td>\n",
       "      <td>T</td>\n",
       "      <td>G</td>\n",
       "      <td>G</td>\n",
       "      <td>G</td>\n",
       "      <td>-20.723266</td>\n",
       "      <td>False</td>\n",
       "    </tr>\n",
       "  </tbody>\n",
       "</table>\n",
       "</div>"
      ],
      "text/plain": [
       "    kmer mutationType P1 P2 P3 P4 P5       prob createCpG\n",
       "0  ACTAA           CT  A  C  C  A  A  -7.819754     False\n",
       "1  TTATC           TA  T  T  T  T  C -20.723266     False\n",
       "2  ATAGG           GA  A  T  G  G  G -20.723266     False"
      ]
     },
     "execution_count": 114,
     "metadata": {},
     "output_type": "execute_result"
    }
   ],
   "source": [
    "data=pd.read_csv(r'C:\\Users\\Guyling1\\ContextProject\\regressionCSVOneFileSABINK5P7.csv')\n",
    "data.head(3)"
   ]
  },
  {
   "cell_type": "markdown",
   "metadata": {},
   "source": [
    "## 1.Feature Extraction\n",
    "\n",
    "Defined a function that adds dummy variables of context dependence up to 3rd degree \n"
   ]
  },
  {
   "cell_type": "code",
   "execution_count": 115,
   "metadata": {
    "collapsed": true
   },
   "outputs": [],
   "source": [
    "def generateFeature(k):\n",
    "    for j in range(1,k+1):\n",
    "        for feature in itertools.imap(''.join,itertools.combinations('1245',j)):\n",
    "            yield feature\n",
    "\n",
    "def functionGenerator(positions,x):\n",
    "    res=''\n",
    "    for position in positions:\n",
    "        res+=x['P{}'.format(position)]\n",
    "    return res\n",
    "\n",
    "def createFeaturePrefix(featureList):\n",
    "    res=''\n",
    "    for feature in featureList:\n",
    "        res+=\"P{}_\".format(feature)\n",
    "    return res\n",
    "\n",
    "def getDummyVarPositionForK(data,k):\n",
    "    for feature in generateFeature(k):\n",
    "        featureList=[int(x) for x in list(feature)]\n",
    "        concatFeature=data.apply(lambda x: functionGenerator(featureList,x),axis=1)\n",
    "        dummies=pd.get_dummies(concatFeature,prefix=createFeaturePrefix(featureList))\n",
    "        #print createFeaturePrefix(featureList) \n",
    "        data=pd.concat([data,dummies],axis=1)\n",
    "    return data\n",
    "\n"
   ]
  },
  {
   "cell_type": "markdown",
   "metadata": {},
   "source": [
    "Sample of the data after adding the dummy var features"
   ]
  },
  {
   "cell_type": "code",
   "execution_count": 116,
   "metadata": {
    "collapsed": false
   },
   "outputs": [
    {
     "data": {
      "text/html": [
       "<div>\n",
       "<table border=\"1\" class=\"dataframe\">\n",
       "  <thead>\n",
       "    <tr style=\"text-align: right;\">\n",
       "      <th></th>\n",
       "      <th>kmer</th>\n",
       "      <th>mutationType</th>\n",
       "      <th>P1</th>\n",
       "      <th>P2</th>\n",
       "      <th>P3</th>\n",
       "      <th>P4</th>\n",
       "      <th>P5</th>\n",
       "      <th>prob</th>\n",
       "      <th>createCpG</th>\n",
       "      <th>P1__A</th>\n",
       "      <th>...</th>\n",
       "      <th>P2_P4_P5__TCG</th>\n",
       "      <th>P2_P4_P5__TCT</th>\n",
       "      <th>P2_P4_P5__TGA</th>\n",
       "      <th>P2_P4_P5__TGC</th>\n",
       "      <th>P2_P4_P5__TGG</th>\n",
       "      <th>P2_P4_P5__TGT</th>\n",
       "      <th>P2_P4_P5__TTA</th>\n",
       "      <th>P2_P4_P5__TTC</th>\n",
       "      <th>P2_P4_P5__TTG</th>\n",
       "      <th>P2_P4_P5__TTT</th>\n",
       "    </tr>\n",
       "  </thead>\n",
       "  <tbody>\n",
       "    <tr>\n",
       "      <th>0</th>\n",
       "      <td>ACTAA</td>\n",
       "      <td>CT</td>\n",
       "      <td>A</td>\n",
       "      <td>C</td>\n",
       "      <td>C</td>\n",
       "      <td>A</td>\n",
       "      <td>A</td>\n",
       "      <td>-7.819754</td>\n",
       "      <td>False</td>\n",
       "      <td>1.0</td>\n",
       "      <td>...</td>\n",
       "      <td>0.0</td>\n",
       "      <td>0.0</td>\n",
       "      <td>0.0</td>\n",
       "      <td>0.0</td>\n",
       "      <td>0.0</td>\n",
       "      <td>0.0</td>\n",
       "      <td>0.0</td>\n",
       "      <td>0.0</td>\n",
       "      <td>0.0</td>\n",
       "      <td>0.0</td>\n",
       "    </tr>\n",
       "    <tr>\n",
       "      <th>1</th>\n",
       "      <td>TTATC</td>\n",
       "      <td>TA</td>\n",
       "      <td>T</td>\n",
       "      <td>T</td>\n",
       "      <td>T</td>\n",
       "      <td>T</td>\n",
       "      <td>C</td>\n",
       "      <td>-20.723266</td>\n",
       "      <td>False</td>\n",
       "      <td>0.0</td>\n",
       "      <td>...</td>\n",
       "      <td>0.0</td>\n",
       "      <td>0.0</td>\n",
       "      <td>0.0</td>\n",
       "      <td>0.0</td>\n",
       "      <td>0.0</td>\n",
       "      <td>0.0</td>\n",
       "      <td>0.0</td>\n",
       "      <td>1.0</td>\n",
       "      <td>0.0</td>\n",
       "      <td>0.0</td>\n",
       "    </tr>\n",
       "    <tr>\n",
       "      <th>2</th>\n",
       "      <td>ATAGG</td>\n",
       "      <td>GA</td>\n",
       "      <td>A</td>\n",
       "      <td>T</td>\n",
       "      <td>G</td>\n",
       "      <td>G</td>\n",
       "      <td>G</td>\n",
       "      <td>-20.723266</td>\n",
       "      <td>False</td>\n",
       "      <td>1.0</td>\n",
       "      <td>...</td>\n",
       "      <td>0.0</td>\n",
       "      <td>0.0</td>\n",
       "      <td>0.0</td>\n",
       "      <td>0.0</td>\n",
       "      <td>1.0</td>\n",
       "      <td>0.0</td>\n",
       "      <td>0.0</td>\n",
       "      <td>0.0</td>\n",
       "      <td>0.0</td>\n",
       "      <td>0.0</td>\n",
       "    </tr>\n",
       "  </tbody>\n",
       "</table>\n",
       "<p>3 rows × 377 columns</p>\n",
       "</div>"
      ],
      "text/plain": [
       "    kmer mutationType P1 P2 P3 P4 P5       prob createCpG  P1__A  \\\n",
       "0  ACTAA           CT  A  C  C  A  A  -7.819754     False    1.0   \n",
       "1  TTATC           TA  T  T  T  T  C -20.723266     False    0.0   \n",
       "2  ATAGG           GA  A  T  G  G  G -20.723266     False    1.0   \n",
       "\n",
       "       ...        P2_P4_P5__TCG  P2_P4_P5__TCT  P2_P4_P5__TGA  P2_P4_P5__TGC  \\\n",
       "0      ...                  0.0            0.0            0.0            0.0   \n",
       "1      ...                  0.0            0.0            0.0            0.0   \n",
       "2      ...                  0.0            0.0            0.0            0.0   \n",
       "\n",
       "   P2_P4_P5__TGG  P2_P4_P5__TGT  P2_P4_P5__TTA  P2_P4_P5__TTC  P2_P4_P5__TTG  \\\n",
       "0            0.0            0.0            0.0            0.0            0.0   \n",
       "1            0.0            0.0            0.0            1.0            0.0   \n",
       "2            1.0            0.0            0.0            0.0            0.0   \n",
       "\n",
       "   P2_P4_P5__TTT  \n",
       "0            0.0  \n",
       "1            0.0  \n",
       "2            0.0  \n",
       "\n",
       "[3 rows x 377 columns]"
      ]
     },
     "execution_count": 116,
     "metadata": {},
     "output_type": "execute_result"
    }
   ],
   "source": [
    "data=getDummyVarPositionForK(data,3)\n",
    "data.head(3)\n"
   ]
  },
  {
   "cell_type": "markdown",
   "metadata": {},
   "source": [
    "After adding the dummy variables we want to create a feature matrix X and predicted value vector y  so that we can easily use it in the regression .\n",
    "\n",
    "WithNull parameter chooses if we want to include unobserved mutations with their defult value of 10^-9\n"
   ]
  },
  {
   "cell_type": "code",
   "execution_count": 117,
   "metadata": {
    "collapsed": true
   },
   "outputs": [],
   "source": [
    "def cleanDataMatrix(data):\n",
    "    for i in range(1,6):\n",
    "        data.drop('P{}'.format(i),axis=1,inplace=True)\n",
    "    data.drop('createCpG',axis=1,inplace=True)\n",
    "\n",
    "def createCovarsAndProbVectorForMutationType(data,mutType,withNull=False):\n",
    "    data=data[data['mutationType']==mutType]\n",
    "    if withNull:\n",
    "        probVector=data.prob\n",
    "        covars=data.drop('prob',axis=1).drop('kmer',axis=1).drop('mutationType',axis=1)\n",
    "    else:\n",
    "        data=data[data['prob']>-20]\n",
    "        probVector=data.prob\n",
    "        covars=data.drop('prob',axis=1).drop('kmer',axis=1).drop('mutationType',axis=1)\n",
    "    return covars,probVector,data"
   ]
  },
  {
   "cell_type": "markdown",
   "metadata": {},
   "source": [
    "## 2.Feature Selection\n",
    "\n",
    "Because we have a very large number of features and these features are also dependent (for example there is an obvious dependecy between P1=A and P1=A,P2=C) we use <a href=\"http://scikit-learn.org/stable/modules/generated/sklearn.linear_model.RandomizedLasso.html\">Randomized lasso regression</a> which a randomized  L-1 norm based method of regression. We will only take in to account features that were used in over ratio=20% of the cases. This was done in order to solve problems with the forward feature selection methods that did not preform well"
   ]
  },
  {
   "cell_type": "code",
   "execution_count": 118,
   "metadata": {
    "collapsed": true
   },
   "outputs": [],
   "source": [
    "def randomLassoFeatureExtraction(covars,probVector,ratio=0.2):\n",
    "    featureList=[]\n",
    "    names=covars.columns\n",
    "    rlasso = RandomizedLasso()\n",
    "    rlasso.fit(covars,probVector)\n",
    "    sortedFeatures=sorted(zip(map(lambda x: round(x, 4), rlasso.scores_), \n",
    "                 names), reverse=True)\n",
    "    for i  in range(20):\n",
    "        f=sortedFeatures[i]\n",
    "        if f[0]>ratio:\n",
    "            featureList.append(f[1])\n",
    "    return featureList\n"
   ]
  },
  {
   "cell_type": "markdown",
   "metadata": {},
   "source": [
    "## 3.Significance and effect test\n",
    "Because every mutation context can only be compared to mutations of the same class (we might want to change this to transitions/transversions to get more power) the data is devided to different mutation Types and then we preform a regression when the covars are only features we obtained in the randomized lasso test.\n",
    "\n",
    "In order to further decrease the effect of dependencies between the features I've used <a  href=\"http://statsmodels.sourceforge.net/devel/generated/statsmodels.regression.linear_model.WLS.html\">WLS method</a>  instead of OLS which puts weights on the different expainatory variables based on the covariance matrix of the variables"
   ]
  },
  {
   "cell_type": "code",
   "execution_count": 144,
   "metadata": {
    "collapsed": false
   },
   "outputs": [],
   "source": [
    "def featureToMotiff(feature,mt,k=5):\n",
    "    kmer=['X' for i in range(k)]\n",
    "    oldnuc=mt[0]\n",
    "    kmer[k//2]=oldnuc\n",
    "    positions=feature.split('__')[0]\n",
    "    nucs=feature.split('__')[1]\n",
    "    positions=[int(x[1]) for x in positions.split(\"_\")]\n",
    "    #print positions\n",
    "    #print nucs\n",
    "    for i in range(len(positions)):\n",
    "        kmer[positions[i]-1]=nucs[i]\n",
    "    return \"\".join(kmer)\n",
    "\n",
    "def arrowBySign(float):\n",
    "    if float>0:\n",
    "        return \"\\u2191\"\n",
    "    else:\n",
    "        return \"\\u2193\"\n",
    "\n",
    "def regressOverDataFile(data,pvalCutOff=10**-4,justName=False):\n",
    "    mutationTypes=set(data['mutationType'].values)\n",
    "    #print mutationTypes\n",
    "    motifMap={}\n",
    "    for mt in mutationTypes:\n",
    "        motifMap[mt]=[]\n",
    "        #print \"-\"*20\n",
    "        #print mt\n",
    "        covars,probVector,mutData=createCovarsAndProbVectorForMutationType(data,mt)\n",
    "        features=randomLassoFeatureExtraction(covars,probVector)\n",
    "        if len(features)==0:\n",
    "            #print \"No segnificant features\"\n",
    "            continue\n",
    "        predictors=\" + \".join(features)\n",
    "        #print predictors\n",
    "        result = sm.wls(formula=\"prob~ {} +1\".format(predictors), data=mutData).fit()\n",
    "        sigFeatures=result.pvalues.sort_values()[1:5].keys()\n",
    "        #print(\"model r^2 {}\".format(result.rsquared_adj))\n",
    "        for f in sigFeatures:\n",
    "            if result.pvalues[f]<pvalCutOff:\n",
    "                if justName:\n",
    "                    motifMap[mt].append((featureToMotiff(f,mt)+arrowBySign(result.params[f]).decode('unicode-escape')))#,result.pvalues[f],result.params[f],result.conf_int().loc[f][0],result.conf_int().loc[f][1])\n",
    "                else:\n",
    "                    motifMap[mt].append((featureToMotiff(f,mt),result.pvalues[f],result.params[f],result.conf_int().loc[f][0]\\\n",
    "                                         ,result.conf_int().loc[f][1]))\n",
    "    return motifMap"
   ]
  },
  {
   "cell_type": "code",
   "execution_count": 120,
   "metadata": {
    "collapsed": true
   },
   "outputs": [],
   "source": [
    "cleanDataMatrix(data)\n",
    "motiffMap=regressOverDataFile(data)"
   ]
  },
  {
   "cell_type": "markdown",
   "metadata": {},
   "source": [
    "## 4.Summarize different passeges and mutation types \n",
    "I created another function to give us the effect across diffetent passeges"
   ]
  },
  {
   "cell_type": "code",
   "execution_count": 137,
   "metadata": {
    "collapsed": true
   },
   "outputs": [],
   "source": [
    "def fileToPassege(fileName):\n",
    "    return fileName.split(\".\")[0][-2:]\n",
    "\n",
    "def regressOverFolder(folder,justNameVar=True):\n",
    "    os.chdir(folder)\n",
    "    files=glob.glob(\"*.csv\")\n",
    "    passeges=[fileToPassege(fileName) for fileName in files]\n",
    "    motifTable=pd.DataFrame('',index=passeges,columns=MUTATIONS)\n",
    "    #print motifTable\n",
    "    for filee in files:\n",
    "        data=pd.read_csv(filee)\n",
    "        #print filee\n",
    "        data=getDummyVarPositionForK(data,3)\n",
    "        cleanDataMatrix(data)\n",
    "        fileMotifMap=regressOverDataFile(data,justName=justNameVar)\n",
    "        for mut in fileMotifMap.keys():\n",
    "            if len(fileMotifMap[mut])>0:\n",
    "                motifTable.loc[fileToPassege(filee)][mut]=fileMotifMap[mut]\n",
    "    return motifTable\n",
    "\n",
    "\n",
    "\n"
   ]
  },
  {
   "cell_type": "markdown",
   "metadata": {},
   "source": [
    "This is a summary of all significat motifs across generations, arrows imply if the motif lowers or highers the substitution rates"
   ]
  },
  {
   "cell_type": "code",
   "execution_count": 145,
   "metadata": {
    "collapsed": false
   },
   "outputs": [
    {
     "data": {
      "text/html": [
       "<div>\n",
       "<table border=\"1\" class=\"dataframe\">\n",
       "  <thead>\n",
       "    <tr style=\"text-align: right;\">\n",
       "      <th></th>\n",
       "      <th>AC</th>\n",
       "      <th>GT</th>\n",
       "      <th>AG</th>\n",
       "      <th>CA</th>\n",
       "      <th>CG</th>\n",
       "      <th>GC</th>\n",
       "      <th>AT</th>\n",
       "      <th>GA</th>\n",
       "      <th>TG</th>\n",
       "      <th>CT</th>\n",
       "      <th>TC</th>\n",
       "      <th>TA</th>\n",
       "    </tr>\n",
       "  </thead>\n",
       "  <tbody>\n",
       "    <tr>\n",
       "      <th>P1</th>\n",
       "      <td></td>\n",
       "      <td></td>\n",
       "      <td>[XTAGX↑]</td>\n",
       "      <td></td>\n",
       "      <td></td>\n",
       "      <td></td>\n",
       "      <td></td>\n",
       "      <td>[CTGXT↓]</td>\n",
       "      <td></td>\n",
       "      <td>[CXCCA↓]</td>\n",
       "      <td>[XXTAA↑]</td>\n",
       "      <td></td>\n",
       "    </tr>\n",
       "    <tr>\n",
       "      <th>P2</th>\n",
       "      <td>[XCAXX↑]</td>\n",
       "      <td></td>\n",
       "      <td></td>\n",
       "      <td></td>\n",
       "      <td></td>\n",
       "      <td>[XGGTG↓]</td>\n",
       "      <td></td>\n",
       "      <td></td>\n",
       "      <td></td>\n",
       "      <td>[XXCCA↓]</td>\n",
       "      <td>[XXTAX↑]</td>\n",
       "      <td></td>\n",
       "    </tr>\n",
       "    <tr>\n",
       "      <th>P3</th>\n",
       "      <td></td>\n",
       "      <td></td>\n",
       "      <td>[XTAGX↑]</td>\n",
       "      <td></td>\n",
       "      <td></td>\n",
       "      <td></td>\n",
       "      <td>[XXATG↓, XTACT↓]</td>\n",
       "      <td></td>\n",
       "      <td></td>\n",
       "      <td>[XXCCX↓]</td>\n",
       "      <td>[XXTAA↑]</td>\n",
       "      <td>[CXTAG↓]</td>\n",
       "    </tr>\n",
       "    <tr>\n",
       "      <th>P4</th>\n",
       "      <td>[XCAXX↑]</td>\n",
       "      <td></td>\n",
       "      <td></td>\n",
       "      <td></td>\n",
       "      <td></td>\n",
       "      <td></td>\n",
       "      <td></td>\n",
       "      <td></td>\n",
       "      <td></td>\n",
       "      <td>[XXCCA↓]</td>\n",
       "      <td>[XXTAX↑]</td>\n",
       "      <td></td>\n",
       "    </tr>\n",
       "    <tr>\n",
       "      <th>P5</th>\n",
       "      <td>[XCAXX↑]</td>\n",
       "      <td></td>\n",
       "      <td>[CAATX↓, XTAGX↑]</td>\n",
       "      <td></td>\n",
       "      <td></td>\n",
       "      <td></td>\n",
       "      <td></td>\n",
       "      <td></td>\n",
       "      <td></td>\n",
       "      <td>[CXCCA↓]</td>\n",
       "      <td>[XXTAA↑]</td>\n",
       "      <td>[CXTAC↓]</td>\n",
       "    </tr>\n",
       "    <tr>\n",
       "      <th>P6</th>\n",
       "      <td></td>\n",
       "      <td></td>\n",
       "      <td></td>\n",
       "      <td></td>\n",
       "      <td></td>\n",
       "      <td>[CTGXT↓]</td>\n",
       "      <td></td>\n",
       "      <td></td>\n",
       "      <td></td>\n",
       "      <td>[XXCCX↓]</td>\n",
       "      <td>[XXTAA↑]</td>\n",
       "      <td></td>\n",
       "    </tr>\n",
       "    <tr>\n",
       "      <th>P7</th>\n",
       "      <td>[AXATA↑]</td>\n",
       "      <td></td>\n",
       "      <td></td>\n",
       "      <td></td>\n",
       "      <td>[GCCXX↑]</td>\n",
       "      <td></td>\n",
       "      <td></td>\n",
       "      <td></td>\n",
       "      <td></td>\n",
       "      <td>[XXCCX↓, CXCCA↓]</td>\n",
       "      <td></td>\n",
       "      <td></td>\n",
       "    </tr>\n",
       "  </tbody>\n",
       "</table>\n",
       "</div>"
      ],
      "text/plain": [
       "          AC GT                AG CA        CG        GC                AT  \\\n",
       "P1                       [XTAGX↑]                                            \n",
       "P2  [XCAXX↑]                                    [XGGTG↓]                     \n",
       "P3                       [XTAGX↑]                         [XXATG↓, XTACT↓]   \n",
       "P4  [XCAXX↑]                                                                 \n",
       "P5  [XCAXX↑]     [CAATX↓, XTAGX↑]                                            \n",
       "P6                                              [CTGXT↓]                     \n",
       "P7  [AXATA↑]                          [GCCXX↑]                               \n",
       "\n",
       "          GA TG                CT        TC        TA  \n",
       "P1  [CTGXT↓]             [CXCCA↓]  [XXTAA↑]            \n",
       "P2                       [XXCCA↓]  [XXTAX↑]            \n",
       "P3                       [XXCCX↓]  [XXTAA↑]  [CXTAG↓]  \n",
       "P4                       [XXCCA↓]  [XXTAX↑]            \n",
       "P5                       [CXCCA↓]  [XXTAA↑]  [CXTAC↓]  \n",
       "P6                       [XXCCX↓]  [XXTAA↑]            \n",
       "P7               [XXCCX↓, CXCCA↓]                      "
      ]
     },
     "execution_count": 145,
     "metadata": {},
     "output_type": "execute_result"
    }
   ],
   "source": [
    "regressOverFolder(r'C:\\Users\\Guyling1\\ContextProject')\n"
   ]
  },
  {
   "cell_type": "code",
   "execution_count": 138,
   "metadata": {
    "collapsed": false
   },
   "outputs": [],
   "source": [
    "summary=regressOverFolder(r'C:\\Users\\Guyling1\\ContextProject',justNameVar=False)"
   ]
  },
  {
   "cell_type": "markdown",
   "metadata": {},
   "source": [
    "You can see more details about the different motifs (P-value,$\\beta$ coeff,$CI_\\alpha[low]$,$CI_\\alpha[high]$)) for $\\alpha=0.05$\n",
    "\n",
    "Just change the Passege and mutation Type to see the motiff you want"
   ]
  },
  {
   "cell_type": "code",
   "execution_count": 141,
   "metadata": {
    "collapsed": false
   },
   "outputs": [
    {
     "data": {
      "text/plain": [
       "[('CXCCA',\n",
       "  9.1982797801072077e-06,\n",
       "  -2.4924195347435991,\n",
       "  -3.5521976503178889,\n",
       "  -1.4326414191693093)]"
      ]
     },
     "execution_count": 141,
     "metadata": {},
     "output_type": "execute_result"
    }
   ],
   "source": [
    "summary.loc['P2']['CA']"
   ]
  }
 ],
 "metadata": {
  "kernelspec": {
   "display_name": "Python 2",
   "language": "python",
   "name": "python2"
  },
  "language_info": {
   "codemirror_mode": {
    "name": "ipython",
    "version": 2
   },
   "file_extension": ".py",
   "mimetype": "text/x-python",
   "name": "python",
   "nbconvert_exporter": "python",
   "pygments_lexer": "ipython2",
   "version": "2.7.11"
  }
 },
 "nbformat": 4,
 "nbformat_minor": 0
}
