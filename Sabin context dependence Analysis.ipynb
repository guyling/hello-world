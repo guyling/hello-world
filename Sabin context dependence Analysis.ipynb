{
 "cells": [
  {
   "cell_type": "markdown",
   "metadata": {},
   "source": [
    "# Regression Analysis of Sabin data "
   ]
  },
  {
   "cell_type": "markdown",
   "metadata": {},
   "source": [
    "This analsys has been done in order to try and determine the context effects\n",
    "of different context on the substitution probability\n",
    "The input data is a csv files of the different K-mers and the $log[Pr(A\\to B|S]$ of substitution rates of each of the passeges.\n",
    "\n",
    "It includes 5 stages:\n",
    "\n",
    "1. Feature extraction- creating a dummy variable for the categorical feature of context in a certain position\n",
    "2. Feature selection- selecting the most important features using the randomized lasso regression method\n",
    "3. Signifcance and effect test- after constructing the regression formula we are applying it in the regression to see if the effect of the motiff is significant also find the $\\beta$ coeffs \n",
    "\n",
    "4. summarize the results across the different mutation types and passeges\n",
    "5. Motif analysis - mining and displaying data about the different motifs to support decision about biological meaning of the motifs\n"
   ]
  },
  {
   "cell_type": "code",
   "execution_count": 274,
   "metadata": {
    "collapsed": false
   },
   "outputs": [],
   "source": [
    "\n",
    "import pandas as pd\n",
    "import itertools\n",
    "import numpy as np\n",
    "from sklearn.ensemble import RandomForestRegressor\n",
    "from treeinterpreter import treeinterpreter as ti\n",
    "from scipy.stats import kendalltau,spearmanr\n",
    "import statsmodels.formula.api as sm\n",
    "from sklearn.linear_model import RandomizedLasso\n",
    "import os\n",
    "import glob\n",
    "import warnings\n",
    "warnings.filterwarnings(\"ignore\")\n",
    "import matplotlib.pyplot as plt\n",
    "global MUTATIONS\n",
    "MUTATIONS=['AC', 'GT', 'AG', 'CA', 'CG', 'GC', 'AT', 'GA', 'TG', 'CT', 'TC', 'TA']\n",
    "global NUCS\n",
    "NUCS=['A','C','G','T']\n",
    "plt.style.use('ggplot')\n",
    "from Bio.Seq import Seq\n",
    "from Bio.Alphabet import IUPAC\n",
    "from Bio.Seq import reverse_complement, transcribe, back_transcribe, translate\n",
    "from Bio import SeqIO\n",
    "from scipy.stats import hypergeom\n"
   ]
  },
  {
   "cell_type": "markdown",
   "metadata": {},
   "source": [
    "Sample of a data file in Passege 7"
   ]
  },
  {
   "cell_type": "code",
   "execution_count": 246,
   "metadata": {
    "collapsed": false,
    "scrolled": true
   },
   "outputs": [
    {
     "data": {
      "text/html": [
       "<div>\n",
       "<table border=\"1\" class=\"dataframe\">\n",
       "  <thead>\n",
       "    <tr style=\"text-align: right;\">\n",
       "      <th></th>\n",
       "      <th>kmer</th>\n",
       "      <th>mutationType</th>\n",
       "      <th>P1</th>\n",
       "      <th>P2</th>\n",
       "      <th>P3</th>\n",
       "      <th>P4</th>\n",
       "      <th>P5</th>\n",
       "      <th>prob</th>\n",
       "      <th>createCpG</th>\n",
       "    </tr>\n",
       "  </thead>\n",
       "  <tbody>\n",
       "    <tr>\n",
       "      <th>0</th>\n",
       "      <td>ACTAA</td>\n",
       "      <td>CT</td>\n",
       "      <td>A</td>\n",
       "      <td>C</td>\n",
       "      <td>C</td>\n",
       "      <td>A</td>\n",
       "      <td>A</td>\n",
       "      <td>-7.819754</td>\n",
       "      <td>False</td>\n",
       "    </tr>\n",
       "    <tr>\n",
       "      <th>1</th>\n",
       "      <td>TTATC</td>\n",
       "      <td>TA</td>\n",
       "      <td>T</td>\n",
       "      <td>T</td>\n",
       "      <td>T</td>\n",
       "      <td>T</td>\n",
       "      <td>C</td>\n",
       "      <td>-20.723266</td>\n",
       "      <td>False</td>\n",
       "    </tr>\n",
       "    <tr>\n",
       "      <th>2</th>\n",
       "      <td>ATAGG</td>\n",
       "      <td>GA</td>\n",
       "      <td>A</td>\n",
       "      <td>T</td>\n",
       "      <td>G</td>\n",
       "      <td>G</td>\n",
       "      <td>G</td>\n",
       "      <td>-20.723266</td>\n",
       "      <td>False</td>\n",
       "    </tr>\n",
       "  </tbody>\n",
       "</table>\n",
       "</div>"
      ],
      "text/plain": [
       "    kmer mutationType P1 P2 P3 P4 P5       prob createCpG\n",
       "0  ACTAA           CT  A  C  C  A  A  -7.819754     False\n",
       "1  TTATC           TA  T  T  T  T  C -20.723266     False\n",
       "2  ATAGG           GA  A  T  G  G  G -20.723266     False"
      ]
     },
     "execution_count": 246,
     "metadata": {},
     "output_type": "execute_result"
    }
   ],
   "source": [
    "data=pd.read_csv(r'C:\\Users\\Guyling1\\ContextProject\\regressionCSVOneFileSABINK5P7.csv')\n",
    "data.head(3)"
   ]
  },
  {
   "cell_type": "markdown",
   "metadata": {},
   "source": [
    "## 1.Feature Extraction\n",
    "\n",
    "Defined a function that adds dummy variables of context dependence up to 3rd degree \n"
   ]
  },
  {
   "cell_type": "code",
   "execution_count": 247,
   "metadata": {
    "collapsed": true
   },
   "outputs": [],
   "source": [
    "def generateFeature(k):\n",
    "    for j in range(1,k+1):\n",
    "        for feature in itertools.imap(''.join,itertools.combinations('1245',j)):\n",
    "            yield feature\n",
    "\n",
    "def functionGenerator(positions,x):\n",
    "    res=''\n",
    "    for position in positions:\n",
    "        res+=x['P{}'.format(position)]\n",
    "    return res\n",
    "\n",
    "def createFeaturePrefix(featureList):\n",
    "    res=''\n",
    "    for feature in featureList:\n",
    "        res+=\"P{}_\".format(feature)\n",
    "    return res\n",
    "\n",
    "def getDummyVarPositionForK(data,k):\n",
    "    for feature in generateFeature(k):\n",
    "        featureList=[int(x) for x in list(feature)]\n",
    "        concatFeature=data.apply(lambda x: functionGenerator(featureList,x),axis=1)\n",
    "        dummies=pd.get_dummies(concatFeature,prefix=createFeaturePrefix(featureList))\n",
    "        #print createFeaturePrefix(featureList) \n",
    "        data=pd.concat([data,dummies],axis=1)\n",
    "    return data\n",
    "\n",
    "def cleanDataMatrix(data,withNull=False):\n",
    "    for i in range(1,6):\n",
    "        data=data.drop('P{}'.format(i),axis=1)\n",
    "    data=data.drop('createCpG',axis=1)\n",
    "    if not(withNull):\n",
    "        data=data[data['prob']>-20]\n",
    "    return data"
   ]
  },
  {
   "cell_type": "markdown",
   "metadata": {},
   "source": [
    "Sample of the data after adding the dummy var features"
   ]
  },
  {
   "cell_type": "code",
   "execution_count": 248,
   "metadata": {
    "collapsed": false
   },
   "outputs": [
    {
     "data": {
      "text/html": [
       "<div>\n",
       "<table border=\"1\" class=\"dataframe\">\n",
       "  <thead>\n",
       "    <tr style=\"text-align: right;\">\n",
       "      <th></th>\n",
       "      <th>kmer</th>\n",
       "      <th>mutationType</th>\n",
       "      <th>prob</th>\n",
       "      <th>P1__A</th>\n",
       "      <th>P1__C</th>\n",
       "      <th>P1__G</th>\n",
       "      <th>P1__T</th>\n",
       "      <th>P2__A</th>\n",
       "      <th>P2__C</th>\n",
       "      <th>P2__G</th>\n",
       "      <th>...</th>\n",
       "      <th>P2_P4_P5__TCG</th>\n",
       "      <th>P2_P4_P5__TCT</th>\n",
       "      <th>P2_P4_P5__TGA</th>\n",
       "      <th>P2_P4_P5__TGC</th>\n",
       "      <th>P2_P4_P5__TGG</th>\n",
       "      <th>P2_P4_P5__TGT</th>\n",
       "      <th>P2_P4_P5__TTA</th>\n",
       "      <th>P2_P4_P5__TTC</th>\n",
       "      <th>P2_P4_P5__TTG</th>\n",
       "      <th>P2_P4_P5__TTT</th>\n",
       "    </tr>\n",
       "  </thead>\n",
       "  <tbody>\n",
       "    <tr>\n",
       "      <th>0</th>\n",
       "      <td>ACTAA</td>\n",
       "      <td>CT</td>\n",
       "      <td>-7.819754</td>\n",
       "      <td>1.0</td>\n",
       "      <td>0.0</td>\n",
       "      <td>0.0</td>\n",
       "      <td>0.0</td>\n",
       "      <td>0.0</td>\n",
       "      <td>1.0</td>\n",
       "      <td>0.0</td>\n",
       "      <td>...</td>\n",
       "      <td>0.0</td>\n",
       "      <td>0.0</td>\n",
       "      <td>0.0</td>\n",
       "      <td>0.0</td>\n",
       "      <td>0.0</td>\n",
       "      <td>0.0</td>\n",
       "      <td>0.0</td>\n",
       "      <td>0.0</td>\n",
       "      <td>0.0</td>\n",
       "      <td>0.0</td>\n",
       "    </tr>\n",
       "    <tr>\n",
       "      <th>3</th>\n",
       "      <td>GCACT</td>\n",
       "      <td>TA</td>\n",
       "      <td>-10.486637</td>\n",
       "      <td>0.0</td>\n",
       "      <td>0.0</td>\n",
       "      <td>1.0</td>\n",
       "      <td>0.0</td>\n",
       "      <td>0.0</td>\n",
       "      <td>1.0</td>\n",
       "      <td>0.0</td>\n",
       "      <td>...</td>\n",
       "      <td>0.0</td>\n",
       "      <td>0.0</td>\n",
       "      <td>0.0</td>\n",
       "      <td>0.0</td>\n",
       "      <td>0.0</td>\n",
       "      <td>0.0</td>\n",
       "      <td>0.0</td>\n",
       "      <td>0.0</td>\n",
       "      <td>0.0</td>\n",
       "      <td>0.0</td>\n",
       "    </tr>\n",
       "    <tr>\n",
       "      <th>9</th>\n",
       "      <td>TTTAT</td>\n",
       "      <td>CT</td>\n",
       "      <td>-8.627929</td>\n",
       "      <td>0.0</td>\n",
       "      <td>0.0</td>\n",
       "      <td>0.0</td>\n",
       "      <td>1.0</td>\n",
       "      <td>0.0</td>\n",
       "      <td>0.0</td>\n",
       "      <td>0.0</td>\n",
       "      <td>...</td>\n",
       "      <td>0.0</td>\n",
       "      <td>0.0</td>\n",
       "      <td>0.0</td>\n",
       "      <td>0.0</td>\n",
       "      <td>0.0</td>\n",
       "      <td>0.0</td>\n",
       "      <td>0.0</td>\n",
       "      <td>0.0</td>\n",
       "      <td>0.0</td>\n",
       "      <td>0.0</td>\n",
       "    </tr>\n",
       "  </tbody>\n",
       "</table>\n",
       "<p>3 rows × 371 columns</p>\n",
       "</div>"
      ],
      "text/plain": [
       "    kmer mutationType       prob  P1__A  P1__C  P1__G  P1__T  P2__A  P2__C  \\\n",
       "0  ACTAA           CT  -7.819754    1.0    0.0    0.0    0.0    0.0    1.0   \n",
       "3  GCACT           TA -10.486637    0.0    0.0    1.0    0.0    0.0    1.0   \n",
       "9  TTTAT           CT  -8.627929    0.0    0.0    0.0    1.0    0.0    0.0   \n",
       "\n",
       "   P2__G      ...        P2_P4_P5__TCG  P2_P4_P5__TCT  P2_P4_P5__TGA  \\\n",
       "0    0.0      ...                  0.0            0.0            0.0   \n",
       "3    0.0      ...                  0.0            0.0            0.0   \n",
       "9    0.0      ...                  0.0            0.0            0.0   \n",
       "\n",
       "   P2_P4_P5__TGC  P2_P4_P5__TGG  P2_P4_P5__TGT  P2_P4_P5__TTA  P2_P4_P5__TTC  \\\n",
       "0            0.0            0.0            0.0            0.0            0.0   \n",
       "3            0.0            0.0            0.0            0.0            0.0   \n",
       "9            0.0            0.0            0.0            0.0            0.0   \n",
       "\n",
       "   P2_P4_P5__TTG  P2_P4_P5__TTT  \n",
       "0            0.0            0.0  \n",
       "3            0.0            0.0  \n",
       "9            0.0            0.0  \n",
       "\n",
       "[3 rows x 371 columns]"
      ]
     },
     "execution_count": 248,
     "metadata": {},
     "output_type": "execute_result"
    }
   ],
   "source": [
    "data=getDummyVarPositionForK(data,3)\n",
    "data=cleanDataMatrix(data)\n",
    "data.head(3)"
   ]
  },
  {
   "cell_type": "markdown",
   "metadata": {},
   "source": [
    "After adding the dummy variables we want to create a feature matrix $X$ and predicted value vector $\\bar{y}$  so that we can easily use it in the regression .\n",
    "\n",
    "WithNull parameter chooses if we want to include unobserved mutations with their defult value of $10^{-9}$\n"
   ]
  },
  {
   "cell_type": "code",
   "execution_count": 249,
   "metadata": {
    "collapsed": true
   },
   "outputs": [],
   "source": [
    "\n",
    "def createCovarsAndProbVectorForMutationType(data,mutType):\n",
    "    data=data[data['mutationType']==mutType]\n",
    "    probVector=data.prob\n",
    "    covars=data.drop('prob',axis=1).drop('kmer',axis=1).drop('mutationType',axis=1)\n",
    "    return covars,probVector,data"
   ]
  },
  {
   "cell_type": "markdown",
   "metadata": {},
   "source": [
    "## 2.Feature Selection\n",
    "\n",
    "Because we have a very large number of features and these features are also dependent (for example there is an obvious dependecy between P1=A and P1=A,P2=C) we use <a href=\"http://scikit-learn.org/stable/modules/generated/sklearn.linear_model.RandomizedLasso.html\">Randomized lasso regression</a> which a randomized  $L-1$ norm based method of regression. We will only take in to account features that were used in over $ratio=0.2$ of the cases. This was done in order to solve problems with the forward feature selection methods that did not preform well"
   ]
  },
  {
   "cell_type": "code",
   "execution_count": 264,
   "metadata": {
    "collapsed": true
   },
   "outputs": [],
   "source": [
    "def randomLassoFeatureExtraction(covars,probVector,ratio=0.2):\n",
    "    featureList=[]\n",
    "    names=covars.columns\n",
    "    rlasso = RandomizedLasso()\n",
    "    rlasso.fit(covars,probVector)\n",
    "    sortedFeatures=sorted(zip(map(lambda x: round(x, 4), rlasso.scores_), \n",
    "                 names), reverse=True)\n",
    "    for i  in range(20):\n",
    "        f=sortedFeatures[i]\n",
    "        if f[0]>ratio:\n",
    "            featureList.append(f[1])\n",
    "    return featureList"
   ]
  },
  {
   "cell_type": "markdown",
   "metadata": {},
   "source": [
    "## 3.Significance and effect test\n",
    "Because every mutation context can only be compared to mutations of the same class (we might want to change this to transitions/transversions to get more power) the data is devided to different mutation Types and then we preform a regression when the covars are only features we obtained in the randomized lasso test.\n",
    "\n",
    "In order to further decrease the effect of dependencies between the features I've used <a  href=\"http://statsmodels.sourceforge.net/devel/generated/statsmodels.regression.linear_model.WLS.html\">WLS method</a>  instead of OLS which puts weights on the different expainatory variables based on the covariance matrix of the variables"
   ]
  },
  {
   "cell_type": "code",
   "execution_count": 265,
   "metadata": {
    "collapsed": false
   },
   "outputs": [],
   "source": [
    "def featureToMotiff(feature,mt,k=5,toString=True):\n",
    "    kmer=['X' for i in range(k)]\n",
    "    oldnuc=mt[0]\n",
    "    kmer[k//2]=oldnuc\n",
    "    positions=feature.split('__')[0]\n",
    "    nucs=feature.split('__')[1]\n",
    "    positions=[int(x[1]) for x in positions.split(\"_\")]\n",
    "    #print positions\n",
    "    #print nucs\n",
    "    for i in range(len(positions)):\n",
    "        kmer[positions[i]-1]=nucs[i]\n",
    "    if toString:\n",
    "        return \"\".join(kmer)\n",
    "    else:\n",
    "        return kmer\n",
    "\n",
    "def arrowBySign(float):\n",
    "    if float>0:\n",
    "        return \"\\u2191\"\n",
    "    else:\n",
    "        return \"\\u2193\"\n",
    "\n",
    "def regressOverDataFile(data,pvalCutOff=10**-4,justName=False,rawMotif=False):\n",
    "    mutationTypes=set(data['mutationType'].values)\n",
    "    #print mutationTypes\n",
    "    motifMap={}\n",
    "    for mt in mutationTypes:\n",
    "        motifMap[mt]=[]\n",
    "        #print \"-\"*20\n",
    "        #print mt\n",
    "        covars,probVector,mutData=createCovarsAndProbVectorForMutationType(data,mt)\n",
    "        features=randomLassoFeatureExtraction(covars,probVector)\n",
    "        if len(features)==0:\n",
    "            #print \"No segnificant features\"\n",
    "            continue\n",
    "        predictors=\" + \".join(features)\n",
    "        #print predictors\n",
    "        result = sm.wls(formula=\"prob~ {} +1\".format(predictors), data=mutData).fit()\n",
    "        sigFeatures=result.pvalues.sort_values()[1:5].keys()\n",
    "        #print(\"model r^2 {}\".format(result.rsquared_adj))\n",
    "        for f in sigFeatures:\n",
    "            if result.pvalues[f]<pvalCutOff:\n",
    "                if rawMotif:\n",
    "                    if justName:\n",
    "                        motifMap[mt].append(f)#,result.pvalues[f],result.params[f],result.conf_int().loc[f][0],result.conf_int().loc[f][1])\n",
    "                    else:\n",
    "                        motifMap[mt].append((f,result.pvalues[f],result.params[f],result.conf_int().loc[f][0]\\\n",
    "                                             ,result.conf_int().loc[f][1]))\n",
    "                else: \n",
    "                    if justName:\n",
    "                        motifMap[mt].append((featureToMotiff(f,mt)+arrowBySign(result.params[f]).decode('unicode-escape')))#,result.pvalues[f],result.params[f],result.conf_int().loc[f][0],result.conf_int().loc[f][1])\n",
    "                    else:\n",
    "                        motifMap[mt].append((featureToMotiff(f,mt),result.pvalues[f],result.params[f],result.conf_int().loc[f][0]\\\n",
    "                                             ,result.conf_int().loc[f][1]))\n",
    "    return motifMap"
   ]
  },
  {
   "cell_type": "code",
   "execution_count": 266,
   "metadata": {
    "collapsed": false
   },
   "outputs": [],
   "source": [
    "\n",
    "motiffMap=regressOverDataFile(data,rawMotif=False)"
   ]
  },
  {
   "cell_type": "markdown",
   "metadata": {},
   "source": [
    "## 4.Summarize different passeges and mutation types \n",
    "I created another function to give us the effect across diffetent passeges"
   ]
  },
  {
   "cell_type": "code",
   "execution_count": 270,
   "metadata": {
    "collapsed": true
   },
   "outputs": [],
   "source": [
    "def fileToPassege(fileName):\n",
    "    return fileName.split(\".\")[0][-2:]\n",
    "\n",
    "def regressOverFolder(folder,justNameVar=True,rawMotif=False):\n",
    "    os.chdir(folder)\n",
    "    files=glob.glob(\"*.csv\")\n",
    "    passeges=[fileToPassege(fileName) for fileName in files]\n",
    "    motifTable=pd.DataFrame('',index=passeges,columns=MUTATIONS)\n",
    "    #print motifTable\n",
    "    for filee in files:\n",
    "        data=pd.read_csv(filee)\n",
    "        #print filee\n",
    "        data=getDummyVarPositionForK(data,3)\n",
    "        data=cleanDataMatrix(data)\n",
    "        fileMotifMap=regressOverDataFile(data,justName=justNameVar,rawMotif=rawMotif)\n",
    "        for mut in fileMotifMap.keys():\n",
    "            if len(fileMotifMap[mut])>0:\n",
    "                motifTable.loc[fileToPassege(filee)][mut]=fileMotifMap[mut]\n",
    "    return motifTable"
   ]
  },
  {
   "cell_type": "markdown",
   "metadata": {},
   "source": [
    "This is a summary of all significat motifs across generations, arrows imply if the motif lowers or highers the substitution rates"
   ]
  },
  {
   "cell_type": "code",
   "execution_count": 272,
   "metadata": {
    "collapsed": false
   },
   "outputs": [
    {
     "data": {
      "text/html": [
       "<div>\n",
       "<table border=\"1\" class=\"dataframe\">\n",
       "  <thead>\n",
       "    <tr style=\"text-align: right;\">\n",
       "      <th></th>\n",
       "      <th>AC</th>\n",
       "      <th>GT</th>\n",
       "      <th>AG</th>\n",
       "      <th>CA</th>\n",
       "      <th>CG</th>\n",
       "      <th>GC</th>\n",
       "      <th>AT</th>\n",
       "      <th>GA</th>\n",
       "      <th>TG</th>\n",
       "      <th>CT</th>\n",
       "      <th>TC</th>\n",
       "      <th>TA</th>\n",
       "    </tr>\n",
       "  </thead>\n",
       "  <tbody>\n",
       "    <tr>\n",
       "      <th>P1</th>\n",
       "      <td></td>\n",
       "      <td></td>\n",
       "      <td>[XTAGX↑]</td>\n",
       "      <td></td>\n",
       "      <td></td>\n",
       "      <td></td>\n",
       "      <td></td>\n",
       "      <td>[CTGXT↓]</td>\n",
       "      <td></td>\n",
       "      <td>[XXCCX↓, CXCCA↓]</td>\n",
       "      <td>[XXTAA↑]</td>\n",
       "      <td></td>\n",
       "    </tr>\n",
       "    <tr>\n",
       "      <th>P2</th>\n",
       "      <td>[XCAXX↑]</td>\n",
       "      <td></td>\n",
       "      <td></td>\n",
       "      <td>[CXCCA↓]</td>\n",
       "      <td></td>\n",
       "      <td>[XGGTG↓]</td>\n",
       "      <td></td>\n",
       "      <td></td>\n",
       "      <td></td>\n",
       "      <td>[XXCCA↓]</td>\n",
       "      <td></td>\n",
       "      <td></td>\n",
       "    </tr>\n",
       "    <tr>\n",
       "      <th>P3</th>\n",
       "      <td>[XCAXX↑]</td>\n",
       "      <td></td>\n",
       "      <td>[XTAGX↑]</td>\n",
       "      <td></td>\n",
       "      <td></td>\n",
       "      <td></td>\n",
       "      <td>[XXATG↓, XTACT↓]</td>\n",
       "      <td></td>\n",
       "      <td></td>\n",
       "      <td></td>\n",
       "      <td>[XXTAA↑]</td>\n",
       "      <td>[XXTTG↓, CXTAG↓]</td>\n",
       "    </tr>\n",
       "    <tr>\n",
       "      <th>P4</th>\n",
       "      <td>[XCAXX↑]</td>\n",
       "      <td></td>\n",
       "      <td></td>\n",
       "      <td></td>\n",
       "      <td></td>\n",
       "      <td></td>\n",
       "      <td></td>\n",
       "      <td></td>\n",
       "      <td></td>\n",
       "      <td>[XXCCA↓, XTCGX↑]</td>\n",
       "      <td>[XXTAX↑]</td>\n",
       "      <td></td>\n",
       "    </tr>\n",
       "    <tr>\n",
       "      <th>P5</th>\n",
       "      <td>[XCAXX↑]</td>\n",
       "      <td></td>\n",
       "      <td>[CAATX↓, XTAGX↑]</td>\n",
       "      <td></td>\n",
       "      <td></td>\n",
       "      <td></td>\n",
       "      <td></td>\n",
       "      <td></td>\n",
       "      <td>[XXTCC↑]</td>\n",
       "      <td>[CXCCA↓]</td>\n",
       "      <td>[XXTAA↑]</td>\n",
       "      <td>[CXTAC↓]</td>\n",
       "    </tr>\n",
       "    <tr>\n",
       "      <th>P6</th>\n",
       "      <td></td>\n",
       "      <td></td>\n",
       "      <td></td>\n",
       "      <td></td>\n",
       "      <td></td>\n",
       "      <td>[CTGXT↓]</td>\n",
       "      <td></td>\n",
       "      <td></td>\n",
       "      <td></td>\n",
       "      <td>[XXCCX↓]</td>\n",
       "      <td></td>\n",
       "      <td></td>\n",
       "    </tr>\n",
       "    <tr>\n",
       "      <th>P7</th>\n",
       "      <td>[AXATA↑]</td>\n",
       "      <td></td>\n",
       "      <td></td>\n",
       "      <td></td>\n",
       "      <td>[GCCXX↑]</td>\n",
       "      <td></td>\n",
       "      <td></td>\n",
       "      <td>[XCGXX↑]</td>\n",
       "      <td></td>\n",
       "      <td>[XXCCX↓, CXCCA↓]</td>\n",
       "      <td></td>\n",
       "      <td></td>\n",
       "    </tr>\n",
       "  </tbody>\n",
       "</table>\n",
       "</div>"
      ],
      "text/plain": [
       "          AC GT                AG        CA        CG        GC  \\\n",
       "P1                       [XTAGX↑]                                 \n",
       "P2  [XCAXX↑]                       [CXCCA↓]            [XGGTG↓]   \n",
       "P3  [XCAXX↑]             [XTAGX↑]                                 \n",
       "P4  [XCAXX↑]                                                      \n",
       "P5  [XCAXX↑]     [CAATX↓, XTAGX↑]                                 \n",
       "P6                                                     [CTGXT↓]   \n",
       "P7  [AXATA↑]                                 [GCCXX↑]             \n",
       "\n",
       "                  AT        GA        TG                CT        TC  \\\n",
       "P1                    [CTGXT↓]            [XXCCX↓, CXCCA↓]  [XXTAA↑]   \n",
       "P2                                                [XXCCA↓]             \n",
       "P3  [XXATG↓, XTACT↓]                                        [XXTAA↑]   \n",
       "P4                                        [XXCCA↓, XTCGX↑]  [XXTAX↑]   \n",
       "P5                              [XXTCC↑]          [CXCCA↓]  [XXTAA↑]   \n",
       "P6                                                [XXCCX↓]             \n",
       "P7                    [XCGXX↑]            [XXCCX↓, CXCCA↓]             \n",
       "\n",
       "                  TA  \n",
       "P1                    \n",
       "P2                    \n",
       "P3  [XXTTG↓, CXTAG↓]  \n",
       "P4                    \n",
       "P5          [CXTAC↓]  \n",
       "P6                    \n",
       "P7                    "
      ]
     },
     "execution_count": 272,
     "metadata": {},
     "output_type": "execute_result"
    }
   ],
   "source": [
    "regressOverFolder(r'C:\\Users\\Guyling1\\ContextProject',rawMotif=False)\n"
   ]
  },
  {
   "cell_type": "code",
   "execution_count": 277,
   "metadata": {
    "collapsed": false
   },
   "outputs": [],
   "source": [
    "summary=regressOverFolder(r'C:\\Users\\Guyling1\\ContextProject',justNameVar=False)\n",
    "rawMotifSummary=regressOverFolder(r'C:\\Users\\Guyling1\\ContextProject',justNameVar=True,rawMotif=True)"
   ]
  },
  {
   "cell_type": "markdown",
   "metadata": {},
   "source": [
    "You can see more details about the different motifs ($P-value$,$\\beta$ coeff,$CI_\\alpha[low]$,$CI_\\alpha[high]$)) for $\\alpha=0.05$\n",
    "\n",
    "Just change the Passege and mutation Type to see the motiff you want"
   ]
  },
  {
   "cell_type": "code",
   "execution_count": 204,
   "metadata": {
    "collapsed": false
   },
   "outputs": [
    {
     "data": {
      "text/plain": [
       "[('XXTAX',\n",
       "  6.50253875486119e-08,\n",
       "  0.6057082529138077,\n",
       "  0.39303962494082784,\n",
       "  0.81837688088678751)]"
      ]
     },
     "execution_count": 204,
     "metadata": {},
     "output_type": "execute_result"
    }
   ],
   "source": [
    "summary.loc['P2']['TC']"
   ]
  },
  {
   "cell_type": "markdown",
   "metadata": {},
   "source": [
    "## 5.Motif Analsys"
   ]
  },
  {
   "cell_type": "markdown",
   "metadata": {},
   "source": [
    "### Comparing Histograms of sequences with the motif and sequences without the motif"
   ]
  },
  {
   "cell_type": "code",
   "execution_count": 202,
   "metadata": {
    "collapsed": false
   },
   "outputs": [],
   "source": [
    "def seperateMotifAndNonMotif(motif,data,mutationType):\n",
    "    data=data[data['mutationType']==mutationType]\n",
    "    nonMotifData=data[data[motif]==0]\n",
    "    motifData=data[data[motif]==1]\n",
    "    return motifData,nonMotifData,motif\n",
    "\n",
    "def histOfMotfAndNonMotif(motif,nonMotif,motifName):\n",
    "    motifProb=motif.prob\n",
    "    nonMotifProb=nonMotif.prob\n",
    "    #print nonMotifProb\n",
    "    df=pd.DataFrame({'Motif':motifProb,'nonMotif':nonMotifProb},columns=['Motif','nonMotif'])\n",
    "    plt.figure()\n",
    "    df.plot.hist(alpha=0.5,bins=50,normed=True)\n",
    "    plt.title(\"{} motif analysis\".format(motifName))\n",
    "    plt.text(-11,1.0,\"motif mean=%.2f\" % motifProb.mean())\n",
    "    plt.text (-11,0.8,\"nonMotif mean=%.2f\" % nonMotifProb.mean())"
   ]
  },
  {
   "cell_type": "code",
   "execution_count": 388,
   "metadata": {
    "collapsed": false
   },
   "outputs": [
    {
     "data": {
      "text/plain": [
       "<matplotlib.figure.Figure at 0x12b27eb8>"
      ]
     },
     "metadata": {},
     "output_type": "display_data"
    },
    {
     "data": {
      "image/png": "[encoded data removed]",
      "text/plain": [
       "<matplotlib.figure.Figure at 0x12b279e8>"
      ]
     },
     "metadata": {},
     "output_type": "display_data"
    }
   ],
   "source": [
    "motif,nonMotif,motifName=seperateMotifAndNonMotif('P4__G',data,'TC')\n",
    "histOfMotfAndNonMotif(motif,nonMotif,motifName)"
   ]
  },
  {
   "cell_type": "markdown",
   "metadata": {
    "collapsed": true
   },
   "source": [
    "More data about the motifs that could give an idea about other factors influencing the substitution rates other than the motifs"
   ]
  },
  {
   "cell_type": "code",
   "execution_count": 385,
   "metadata": {
    "collapsed": false
   },
   "outputs": [],
   "source": [
    "\n",
    "def parseSeq(seqLocation,codingStart,codingEnd):\n",
    "    fasta_sequences = SeqIO.parse(open(seqLocation),'fasta')\n",
    "    for fasta in fasta_sequences:\n",
    "        consensus= fasta.seq[codingStart:codingEnd]\n",
    "        return consensus\n",
    "\n",
    "def isSynMutation(seq,kmer,offset,k=5):\n",
    "    originalSeq=str(seq)\n",
    "    mutatedSeq=str(seq)  \n",
    "    mutatedSeqList=list(mutatedSeq)\n",
    "    mutatedSeqList[offset-k//2:offset+k//2+1]=list(kmer)\n",
    "    mutatedSeq=\"\".join(mutatedSeqList)\n",
    "    return translate(originalSeq)==translate(mutatedSeq)\n",
    "    \n",
    "def checkMotiflocations(seq,motif,mutationType):\n",
    "    locations=[]\n",
    "    motif=featureToMotiff(motif,mutationType,toString=False)\n",
    "    k=len(motif)\n",
    "    #print motif\n",
    "    allIndices=set([i for i in range(k)])\n",
    "    freeIndices=set([i for i, x in enumerate(motif) if x == \"X\"])\n",
    "    #print freeIndices\n",
    "    checkIndices=list(allIndices-freeIndices)\n",
    "    #print checkIndices\n",
    "    for i in range(k//2,len(seq)-k//2):\n",
    "        isMotif=True\n",
    "        compared=list(seq[i-k//2:i+k//2+1])\n",
    "        #print compared\n",
    "        for position in checkIndices:\n",
    "            #print (compared[position],motif[position])\n",
    "            if compared[position]!=motif[position]:\n",
    "                isMotif=False\n",
    "                break\n",
    "        comparedAfterMutation=compared\n",
    "        comparedAfterMutation[k//2]=mutationType[1]\n",
    "        if (isMotif and isSynMutation(seq,comparedAfterMutation,i)):\n",
    "            locations.append(i)\n",
    "    return locations\n",
    "\n",
    "def is4FoldDegenerate(seq,location,k=5):\n",
    "    compared=list(seq[location-k//2:location+k//2+1])\n",
    "    for nuc in NUCS:\n",
    "        compared[k//2]=nuc\n",
    "        if not(isSynMutation(seq,compared,location)):\n",
    "            return False\n",
    "    return True\n",
    "\n",
    "\n",
    "def iterateOverLocationsList(function,seq,locations,k=5):\n",
    "    resList=[]\n",
    "    for location in locations:\n",
    "        if function(seq,location):\n",
    "            resList.append(location)\n",
    "    return resList\n",
    "            \n",
    "def hyperGeoTest(M,n,locations,TrueLocations):\n",
    "    rv = hypergeom(M, n, locations)\n",
    "    return rv.pmf(TrueLocations)\n",
    "\n",
    "def checkHyperGeometricForAllMotifs(motifTable,function,M,n,seq,thrashold=0.05):\n",
    "    sigHG={}\n",
    "    mutations=motifTable.columns\n",
    "    for mt in mutations:\n",
    "        lenn=len(motifTable[mt])\n",
    "        tableByMt=motifTable[mt]\n",
    "        for i in range(lenn):\n",
    "            cellMotifs=tableByMt[i]\n",
    "            if cellMotifs!=\"\":\n",
    "                for motif in cellMotifs:\n",
    "                    #print motif\n",
    "                    allLocations=checkMotiflocations(seq,motif,mt)\n",
    "                    #print len(allLocations)\n",
    "                    trueLocations=iterateOverLocationsList(function,seq,allLocations)\n",
    "                    #print len(trueLocations)\n",
    "                    pvalue=hyperGeoTest(M,n,len(allLocations),len(trueLocations))\n",
    "                    #print pvalue\n",
    "                    if (featureToMotiff(motif,mt),mt) in sigHG.keys():\n",
    "                        continue\n",
    "                    if (pvalue < thrashold):\n",
    "                        sigHG[(featureToMotiff(motif,mt),mt)]=pvalue\n",
    "    return pd.DataFrame(sigHG.items(),columns=['motif_mutationType','HG test PV'])"
   ]
  },
  {
   "cell_type": "markdown",
   "metadata": {},
   "source": [
    "<h3>4-fold Degenerate sites enrichment</h3>\n",
    "\n",
    "We want to check the if there is any kind of enrichment for 4-fold degenerate site. in order to do this we will preform a HG test when $n=994$ is the number of 4-fold degenerate sites within the coding region and $M=2345$ possible sites of synonymous mutation.\n",
    "\n",
    "<b>There appears to be an significant large number of 4-fold degenerate sites in many of the motif we found as having an effect on mutation rate</b>"
   ]
  },
  {
   "cell_type": "code",
   "execution_count": 389,
   "metadata": {
    "collapsed": false
   },
   "outputs": [
    {
     "data": {
      "text/html": [
       "<div>\n",
       "<table border=\"1\" class=\"dataframe\">\n",
       "  <thead>\n",
       "    <tr style=\"text-align: right;\">\n",
       "      <th></th>\n",
       "      <th>motif_mutationType</th>\n",
       "      <th>HG test PV</th>\n",
       "    </tr>\n",
       "  </thead>\n",
       "  <tbody>\n",
       "    <tr>\n",
       "      <th>0</th>\n",
       "      <td>(AGGXC, GA)</td>\n",
       "      <td>2.092757e-02</td>\n",
       "    </tr>\n",
       "    <tr>\n",
       "      <th>1</th>\n",
       "      <td>(GXTTG, TA)</td>\n",
       "      <td>3.217076e-02</td>\n",
       "    </tr>\n",
       "    <tr>\n",
       "      <th>2</th>\n",
       "      <td>(AXATA, AC)</td>\n",
       "      <td>3.217076e-02</td>\n",
       "    </tr>\n",
       "    <tr>\n",
       "      <th>3</th>\n",
       "      <td>(XXTAX, TC)</td>\n",
       "      <td>1.274725e-02</td>\n",
       "    </tr>\n",
       "    <tr>\n",
       "      <th>4</th>\n",
       "      <td>(GCCXX, CG)</td>\n",
       "      <td>7.755594e-16</td>\n",
       "    </tr>\n",
       "    <tr>\n",
       "      <th>5</th>\n",
       "      <td>(XCAXX, AC)</td>\n",
       "      <td>6.681771e-53</td>\n",
       "    </tr>\n",
       "    <tr>\n",
       "      <th>6</th>\n",
       "      <td>(CAATX, AG)</td>\n",
       "      <td>3.639374e-02</td>\n",
       "    </tr>\n",
       "    <tr>\n",
       "      <th>7</th>\n",
       "      <td>(XXATG, AT)</td>\n",
       "      <td>4.712874e-02</td>\n",
       "    </tr>\n",
       "    <tr>\n",
       "      <th>8</th>\n",
       "      <td>(XXTAA, TC)</td>\n",
       "      <td>4.990953e-02</td>\n",
       "    </tr>\n",
       "    <tr>\n",
       "      <th>9</th>\n",
       "      <td>(XTAGX, AG)</td>\n",
       "      <td>3.247597e-02</td>\n",
       "    </tr>\n",
       "    <tr>\n",
       "      <th>10</th>\n",
       "      <td>(XXTCC, TG)</td>\n",
       "      <td>1.362744e-05</td>\n",
       "    </tr>\n",
       "    <tr>\n",
       "      <th>11</th>\n",
       "      <td>(XCTXG, TA)</td>\n",
       "      <td>1.220260e-11</td>\n",
       "    </tr>\n",
       "  </tbody>\n",
       "</table>\n",
       "</div>"
      ],
      "text/plain": [
       "   motif_mutationType    HG test PV\n",
       "0         (AGGXC, GA)  2.092757e-02\n",
       "1         (GXTTG, TA)  3.217076e-02\n",
       "2         (AXATA, AC)  3.217076e-02\n",
       "3         (XXTAX, TC)  1.274725e-02\n",
       "4         (GCCXX, CG)  7.755594e-16\n",
       "5         (XCAXX, AC)  6.681771e-53\n",
       "6         (CAATX, AG)  3.639374e-02\n",
       "7         (XXATG, AT)  4.712874e-02\n",
       "8         (XXTAA, TC)  4.990953e-02\n",
       "9         (XTAGX, AG)  3.247597e-02\n",
       "10        (XXTCC, TG)  1.362744e-05\n",
       "11        (XCTXG, TA)  1.220260e-11"
      ]
     },
     "execution_count": 389,
     "metadata": {},
     "output_type": "execute_result"
    }
   ],
   "source": [
    "cons=parseSeq(r'C:\\Users\\Guyling1\\ContextProject\\AggarwalaPaper\\sabin2.full_genome.U882C.A2973G.C4905U.C5526U.fasta',747,7638)\n",
    "checkHyperGeometricForAllMotifs(rawMotifSummary,is4FoldDegenerate,2345,994,cons)"
   ]
  },
  {
   "cell_type": "code",
   "execution_count": null,
   "metadata": {
    "collapsed": false
   },
   "outputs": [],
   "source": []
  },
  {
   "cell_type": "code",
   "execution_count": null,
   "metadata": {
    "collapsed": true
   },
   "outputs": [],
   "source": []
  }
 ],
 "metadata": {
  "kernelspec": {
   "display_name": "Python 2",
   "language": "python",
   "name": "python2"
  },
  "language_info": {
   "codemirror_mode": {
    "name": "ipython",
    "version": 2
   },
   "file_extension": ".py",
   "mimetype": "text/x-python",
   "name": "python",
   "nbconvert_exporter": "python",
   "pygments_lexer": "ipython2",
   "version": "2.7.11"
  }
 },
 "nbformat": 4,
 "nbformat_minor": 0
}
