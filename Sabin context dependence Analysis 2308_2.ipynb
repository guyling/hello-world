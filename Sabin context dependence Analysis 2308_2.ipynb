{
 "cells": [
  {
   "cell_type": "markdown",
   "metadata": {},
   "source": [
    "# Regression Analysis of Sabin data "
   ]
  },
  {
   "cell_type": "markdown",
   "metadata": {},
   "source": [
    "This analsys has been done in order to try and determine the context effects\n",
    "of different context on the substitution probability\n",
    "The input data is a csv files of the different K-mers and the $log[Pr(A\\to B|S]$ of substitution rates of each of the passeges.\n",
    "\n",
    "It includes 5 stages:\n",
    "\n",
    "1. Feature extraction- creating a dummy variable for the categorical feature of context in a certain position\n",
    "2. Feature selection- selecting the most important features using the randomized lasso regression method\n",
    "3. Signifcance and effect test- after constructing the regression formula we are applying it in the regression to see if the effect of the motiff is significant also find the $\\beta$ coeffs \n",
    "\n",
    "4. summarize the results across the different mutation types and passeges\n",
    "5. Motif analysis - mining and displaying data about the different motifs to support decision about biological meaning of the motifs\n"
   ]
  },
  {
   "cell_type": "code",
   "execution_count": 241,
   "metadata": {
    "collapsed": false
   },
   "outputs": [
    {
     "name": "stdout",
     "output_type": "stream",
     "text": [
      "Using matplotlib backend: Qt4Agg\n"
     ]
    }
   ],
   "source": [
    "%matplotlib\n",
    "import pandas as pd\n",
    "import itertools\n",
    "import numpy as np\n",
    "from sklearn.ensemble import RandomForestRegressor\n",
    "from treeinterpreter import treeinterpreter as ti\n",
    "from scipy.stats import kendalltau,spearmanr\n",
    "import statsmodels.formula.api as sm\n",
    "import statsmodels.api as sma\n",
    "from sklearn.linear_model import RandomizedLasso\n",
    "import os\n",
    "import glob\n",
    "import warnings\n",
    "warnings.filterwarnings(\"ignore\")\n",
    "import matplotlib.pyplot as plt\n",
    "global MUTATIONS\n",
    "MUTATIONS=['AC', 'GT', 'AG', 'CA', 'CG', 'GC', 'AT', 'GA', 'TG', 'CT', 'TC', 'TA']\n",
    "global NUCS\n",
    "NUCS=['A','C','G','T']\n",
    "plt.style.use('ggplot')\n",
    "from Bio.Seq import Seq\n",
    "from Bio.Alphabet import IUPAC\n",
    "from Bio.Seq import reverse_complement, transcribe, back_transcribe, translate\n",
    "from sklearn.decomposition import PCA\n",
    "from scipy.cluster.vq import whiten\n",
    "\n",
    "from Bio import SeqIO\n",
    "from scipy.stats import hypergeom\n"
   ]
  },
  {
   "cell_type": "markdown",
   "metadata": {},
   "source": [
    "Sample of a data file in Passege 7"
   ]
  },
  {
   "cell_type": "code",
   "execution_count": 242,
   "metadata": {
    "collapsed": false,
    "scrolled": true
   },
   "outputs": [],
   "source": [
    "data=pd.read_csv(r'C:\\Users\\Guyling1\\ContextProject\\modeltest\\nullwithP1P2GGCT.csv')\n"
   ]
  },
  {
   "cell_type": "markdown",
   "metadata": {},
   "source": [
    "## 1.Feature Extraction\n",
    "\n",
    "Defined a function that adds dummy variables of context dependence up to 3rd degree \n"
   ]
  },
  {
   "cell_type": "code",
   "execution_count": 3,
   "metadata": {
    "collapsed": true
   },
   "outputs": [],
   "source": [
    "def generateFeature(k):\n",
    "    for j in range(1,k+1):\n",
    "        for feature in itertools.imap(''.join,itertools.combinations('1245',j)):\n",
    "            yield feature\n",
    "\n",
    "def functionGenerator(positions,x):\n",
    "    res=''\n",
    "    for position in positions:\n",
    "        res+=x['P{}'.format(position)]\n",
    "    return res\n",
    "\n",
    "def createFeaturePrefix(featureList):\n",
    "    res=''\n",
    "    for feature in featureList:\n",
    "        res+=\"P{}_\".format(feature)\n",
    "    return res\n",
    "\n",
    "def getDummyVarPositionForK(data,k):\n",
    "    for feature in generateFeature(k):\n",
    "        featureList=[int(x) for x in list(feature)]\n",
    "        concatFeature=data.apply(lambda x: functionGenerator(featureList,x),axis=1)\n",
    "        dummies=pd.get_dummies(concatFeature,prefix=createFeaturePrefix(featureList))\n",
    "        #print createFeaturePrefix(featureList) \n",
    "        data=pd.concat([data,dummies],axis=1)\n",
    "    return data\n",
    "\n",
    "def cleanDataMatrix(data,withNull=False):\n",
    "    for i in range(1,6):\n",
    "        data=data.drop('P{}'.format(i),axis=1)\n",
    "    if not(withNull):\n",
    "        data=data[data['prob']>-20]\n",
    "    return data"
   ]
  },
  {
   "cell_type": "markdown",
   "metadata": {},
   "source": [
    "Sample of the data after adding the dummy var features"
   ]
  },
  {
   "cell_type": "code",
   "execution_count": 243,
   "metadata": {
    "collapsed": false
   },
   "outputs": [],
   "source": [
    "data=getDummyVarPositionForK(data,3)\n",
    "data=cleanDataMatrix(data)\n",
    "#data.head(3)"
   ]
  },
  {
   "cell_type": "markdown",
   "metadata": {},
   "source": [
    "After adding the dummy variables we want to create a feature matrix $X$ and predicted value vector $\\bar{y}$  so that we can easily use it in the regression .\n",
    "\n",
    "WithNull parameter chooses if we want to include unobserved mutations with their defult value of $10^{-9}$\n"
   ]
  },
  {
   "cell_type": "code",
   "execution_count": null,
   "metadata": {
    "collapsed": true
   },
   "outputs": [],
   "source": [
    "\n",
    "def createCovarsAndProbVectorForMutationType(data,mutType):\n",
    "    data=data[data['mutationType']==mutType]\n",
    "    probVector=data.prob\n",
    "    covars=data.drop('prob',axis=1).drop('kmer',axis=1).drop('mutationType',axis=1).drop('indices',axis=1)\n",
    "    return covars,probVector,data\n",
    "\n",
    "def centerMatrix(data):\n",
    "    return data-data.mean()"
   ]
  },
  {
   "cell_type": "markdown",
   "metadata": {},
   "source": [
    "## 2.Feature Selection\n",
    "\n",
    "Because we have a very large number of features and these features are also dependent (for example there is an obvious dependecy between P1=A and P1=A,P2=C) we use <a href=\"http://scikit-learn.org/stable/modules/generated/sklearn.linear_model.RandomizedLasso.html\">Randomized lasso regression</a> which a randomized  $L-1$ norm based method of regression. We will only take in to account features that were used in over $ratio=0.2$ of the cases. This was done in order to solve problems with the forward feature selection methods that did not preform well"
   ]
  },
  {
   "cell_type": "code",
   "execution_count": 91,
   "metadata": {
    "collapsed": false
   },
   "outputs": [],
   "source": [
    "def featureToNumberOfOccurances(feature,data,allLen=False):\n",
    "    places=pd.Series(data[data[feature]==1].index)\n",
    "    if allLen:\n",
    "        places=pd.Series(data.loc[(data[feature]==1) |(data[feature]==0)].index)\n",
    "    return places.apply(lambda x: len(data.loc[x]['indices'])).sum()\n",
    "\n",
    "def whitenMatrix(covars):\n",
    "    index=covars.index\n",
    "    columns=covars.columns\n",
    "    pca = PCA(whiten=True)\n",
    "    transformed=pca.fit_transform(covars)\n",
    "    pca.whiten=False\n",
    "    whiten=pca.inverse_transform(transformed)\n",
    "    return pd.DataFrame(data=whiten,index=index,columns=columns)\n",
    "\n",
    "def reduceEffectOfFeatures(mutData,features):\n",
    "    newData=mutData.copy()\n",
    "    print features\n",
    "    probVector=mutData.prob\n",
    "    predictors=\" + \".join(features)\n",
    "    result = sm.wls(formula=\"prob~ {}\".format(predictors), data=mutData).fit()\n",
    "    probVector=result.resid_pearson\n",
    "    newData['prob']=probVector\n",
    "    return newData\n",
    "                        \n",
    "def randomLassoFeatureExtraction(covars,probVector,mutData,ratio=0.2,partOfOccurances=0.01):\n",
    "    featureList=[]\n",
    "    total=featureToNumberOfOccurances('P1__A',mutData,allLen=True)\n",
    "    #print total\n",
    "    numOccurances=total*partOfOccurances\n",
    "    names=covars.columns\n",
    "    rlasso = RandomizedLasso(n_resampling=600)\n",
    "    rlasso.fit(covars,probVector)\n",
    "    sortedFeatures=sorted(zip(map(lambda x: round(x, 4), rlasso.scores_), \n",
    "                 names), reverse=True)\n",
    "    for f in sortedFeatures:\n",
    "        if (f[0]>ratio and featureToNumberOfOccurances(f[1],mutData)>numOccurances):\n",
    "                featureList.append(f[1])\n",
    "                #print featureToNumberOfOccurances(f[1],mutData),f[1]\n",
    "        else:\n",
    "            break\n",
    "    return featureList"
   ]
  },
  {
   "cell_type": "markdown",
   "metadata": {},
   "source": [
    "## 3.Significance and effect test\n",
    "Because every mutation context can only be compared to mutations of the same class (we might want to change this to transitions/transversions to get more power) the data is devided to different mutation Types and then we preform a regression when the covars are only features we obtained in the randomized lasso test.\n",
    "\n",
    "In order to further decrease the effect of dependencies between the features I've used <a  href=\"http://statsmodels.sourceforge.net/devel/generated/statsmodels.regression.linear_model.WLS.html\">WLS method</a>  instead of OLS which puts weights on the different expainatory variables based on the covariance matrix of the variables"
   ]
  },
  {
   "cell_type": "code",
   "execution_count": 234,
   "metadata": {
    "collapsed": false
   },
   "outputs": [],
   "source": [
    "def featureToMotiff(feature,mt,k=5,toString=True):\n",
    "    kmer=['X' for i in range(k)]\n",
    "    oldnuc=mt[0]\n",
    "    kmer[k//2]=oldnuc\n",
    "    positions=feature.split('__')[0]\n",
    "    nucs=feature.split('__')[1]\n",
    "    positions=[int(x[1]) for x in positions.split(\"_\")]\n",
    "    #print positions\n",
    "    #print nucs\n",
    "    for i in range(len(positions)):\n",
    "        kmer[positions[i]-1]=nucs[i]\n",
    "    if toString:\n",
    "        return \"\".join(kmer)\n",
    "    else:\n",
    "        return kmer\n",
    "\n",
    "def arrowBySign(float):\n",
    "    if float>0:\n",
    "        return \"\\u2191\"\n",
    "    else:\n",
    "        return \"\\u2193\"\n",
    "    \n",
    "def createNullFeatureList(nullDataPath):\n",
    "    nullData=pd.read_csv(nullDataPath)\n",
    "    nullData=getDummyVarPositionForK(nullData,3)\n",
    "    nullData=cleanDataMatrix(nullData)\n",
    "    return regressOverDataFile(nullData,justName=True,rawMotif=True,whiten=False)\n",
    "    \n",
    "\n",
    "def regressOverDataFile(data,pvalCutOff=10**-5,justName=False,rawMotif=False,whiten=False,nullDataPath=None):\n",
    "    mutationTypes=set(data['mutationType'].values)\n",
    "    #print mutationTypes\n",
    "    motifMap={}\n",
    "    if nullDataPath:\n",
    "        nullMap=createNullFeatureList(nullDataPath)\n",
    "        #print nullMap\n",
    "    for mt in mutationTypes:\n",
    "        #print mt\n",
    "        motifMap[mt]=[]\n",
    "        covars,probVector,mutData=createCovarsAndProbVectorForMutationType(data,mt)\n",
    "        if whiten:\n",
    "            try:\n",
    "                nullFeatures=nullMap[mt]\n",
    "            except:\n",
    "                return []\n",
    "        covars=centerMatrix(covars)\n",
    "        covars=whitenMatrix(covars)\n",
    "        features=randomLassoFeatureExtraction(covars,probVector,mutData)\n",
    "        if len(features)==0:\n",
    "            #print \"no significant features\"\n",
    "            continue\n",
    "        if whiten:\n",
    "            if len(nullFeatures)>0:\n",
    "                #print \"null features: \"+str(nullFeatures)\n",
    "                #mutData=reduceEffectOfFeatures(mutData,nullFeatures)\n",
    "                features=list(set(features)-set(nullFeatures))\n",
    "        predictors=\" * \".join(features)\n",
    "        #print predictors\n",
    "        result = sm.wls(formula=\"prob~ {} +1\".format(predictors), data=mutData).fit()\n",
    "        sigFeatures=result.pvalues.sort_values()[1:20].keys()\n",
    "        #print(\"model r^2 {}\".format(result.rsquared_adj))\n",
    "        for f in sigFeatures:\n",
    "            if result.pvalues[f]<pvalCutOff:# or not(whiten):\n",
    "                if rawMotif:\n",
    "                    if justName:\n",
    "                        motifMap[mt].append(f)#,result.pvalues[f],result.params[f],result.conf_int().loc[f][0],result.conf_int().loc[f][1])\n",
    "                    else:\n",
    "                        motifMap[mt].append((f,result.pvalues[f],result.params[f],result.conf_int().loc[f][0]\\\n",
    "                                             ,result.conf_int().loc[f][1]))\n",
    "                else: \n",
    "                    if justName:\n",
    "                        motifMap[mt].append((featureToMotiff(f,mt)+arrowBySign(result.params[f]).decode('unicode-escape')))#,result.pvalues[f],result.params[f],result.conf_int().loc[f][0],result.conf_int().loc[f][1])\n",
    "                    else:\n",
    "                        motifMap[mt].append((featureToMotiff(f,mt),result.pvalues[f],result.params[f],result.conf_int().loc[f][0]\\\n",
    "                                             ,result.conf_int().loc[f][1]))\n",
    "    return motifMap"
   ]
  },
  {
   "cell_type": "markdown",
   "metadata": {
    "collapsed": false
   },
   "source": [
    "\"\"\"\n",
    "data=pd.read_csv(r'C:\\Users\\Guyling1\\ContextProject\\modeltest\\nullwithP1P2GGCT.csv')\n",
    "data=getDummyVarPositionForK(data,3)\n",
    "data=cleanDataMatrix(data)\n",
    "\n",
    "motiffMap=regressOverDataFile(data,rawMotif=True,justName=False\\\n",
    ",whiten=True,nullDataPath=r'C:\\Users\\Guyling1\\ContextProject\\modeltest\\null.csv')\n",
    "motiffMap\n",
    "\"\"\"\n"
   ]
  },
  {
   "cell_type": "markdown",
   "metadata": {},
   "source": [
    "## 4.Summarize different passeges and mutation types \n",
    "I created another function to give us the effect across diffetent passeges"
   ]
  },
  {
   "cell_type": "code",
   "execution_count": 230,
   "metadata": {
    "collapsed": false
   },
   "outputs": [],
   "source": [
    "def fileToPassege(fileName):\n",
    "    return fileName.split(\".\")[0][-2:]\n",
    "\n",
    "def regressOverFolder(folder,justNameVar=True,rawMotif=False):\n",
    "    os.chdir(folder)\n",
    "    files=glob.glob(\"*.csv\")\n",
    "    passeges=[fileToPassege(fileName) for fileName in files]\n",
    "    motifTable=pd.DataFrame('',index=passeges,columns=MUTATIONS)\n",
    "    #print motifTable\n",
    "    for filee in files:\n",
    "        data=pd.read_csv(filee)\n",
    "        #print filee\n",
    "        data=getDummyVarPositionForK(data,3)\n",
    "        data=cleanDataMatrix(data)\n",
    "        fileMotifMap=regressOverDataFile(data,justName=justNameVar,rawMotif=rawMotif)#\\\n",
    "                                         #,nullDataPath=folder+\"null\\{}\".format(filee.split(\".\")[0]+\".\"+filee.split(\".\")[-1]),whiten=True)\n",
    "        for mut in fileMotifMap.keys():\n",
    "            if len(fileMotifMap[mut])>0:\n",
    "                motifTable.loc[fileToPassege(filee)][mut]=fileMotifMap[mut]\n",
    "    return motifTable"
   ]
  },
  {
   "cell_type": "markdown",
   "metadata": {},
   "source": [
    "<h2> Sabin Analysis </h2>\n",
    "<h3> regular sample </h3>"
   ]
  },
  {
   "cell_type": "code",
   "execution_count": 211,
   "metadata": {
    "collapsed": false
   },
   "outputs": [
    {
     "name": "stdout",
     "output_type": "stream",
     "text": [
      "regressionCSVOneFileK5P1.csv\n",
      "regressionCSVOneFileK5P2.csv\n",
      "regressionCSVOneFileK5P3.csv\n",
      "regressionCSVOneFileK5P4.csv\n",
      "regressionCSVOneFileK5P5.csv\n",
      "regressionCSVOneFileK5P6.csv\n",
      "regressionCSVOneFileK5P7.csv\n"
     ]
    },
    {
     "data": {
      "text/html": [
       "<div>\n",
       "<table border=\"1\" class=\"dataframe\">\n",
       "  <thead>\n",
       "    <tr style=\"text-align: right;\">\n",
       "      <th></th>\n",
       "      <th>AC</th>\n",
       "      <th>GT</th>\n",
       "      <th>AG</th>\n",
       "      <th>CA</th>\n",
       "      <th>CG</th>\n",
       "      <th>GC</th>\n",
       "      <th>AT</th>\n",
       "      <th>GA</th>\n",
       "      <th>TG</th>\n",
       "      <th>CT</th>\n",
       "      <th>TC</th>\n",
       "      <th>TA</th>\n",
       "    </tr>\n",
       "  </thead>\n",
       "  <tbody>\n",
       "    <tr>\n",
       "      <th>P1</th>\n",
       "      <td>[XCAXX↑]</td>\n",
       "      <td></td>\n",
       "      <td></td>\n",
       "      <td></td>\n",
       "      <td></td>\n",
       "      <td></td>\n",
       "      <td></td>\n",
       "      <td></td>\n",
       "      <td></td>\n",
       "      <td>[XXCCX↓]</td>\n",
       "      <td>[XXTAA↑]</td>\n",
       "      <td></td>\n",
       "    </tr>\n",
       "    <tr>\n",
       "      <th>P2</th>\n",
       "      <td>[XCAXX↑]</td>\n",
       "      <td></td>\n",
       "      <td>[XGAXX↓]</td>\n",
       "      <td>[CXCCA↓]</td>\n",
       "      <td></td>\n",
       "      <td></td>\n",
       "      <td></td>\n",
       "      <td></td>\n",
       "      <td></td>\n",
       "      <td></td>\n",
       "      <td>[XXTAX↑]</td>\n",
       "      <td></td>\n",
       "    </tr>\n",
       "    <tr>\n",
       "      <th>P3</th>\n",
       "      <td>[XCAXX↑]</td>\n",
       "      <td></td>\n",
       "      <td></td>\n",
       "      <td></td>\n",
       "      <td></td>\n",
       "      <td></td>\n",
       "      <td>[XXATG↓]</td>\n",
       "      <td></td>\n",
       "      <td></td>\n",
       "      <td>[XXCCX↓]</td>\n",
       "      <td>[XXTAA↑]</td>\n",
       "      <td></td>\n",
       "    </tr>\n",
       "    <tr>\n",
       "      <th>P4</th>\n",
       "      <td>[XCAXX↑]</td>\n",
       "      <td></td>\n",
       "      <td></td>\n",
       "      <td></td>\n",
       "      <td></td>\n",
       "      <td></td>\n",
       "      <td></td>\n",
       "      <td></td>\n",
       "      <td></td>\n",
       "      <td></td>\n",
       "      <td>[XXTAX↑]</td>\n",
       "      <td></td>\n",
       "    </tr>\n",
       "    <tr>\n",
       "      <th>P5</th>\n",
       "      <td>[XCAXX↑]</td>\n",
       "      <td></td>\n",
       "      <td>[CAATX↓]</td>\n",
       "      <td></td>\n",
       "      <td></td>\n",
       "      <td></td>\n",
       "      <td></td>\n",
       "      <td>[XGGXC↑]</td>\n",
       "      <td></td>\n",
       "      <td>[XXCCX↓]</td>\n",
       "      <td>[XXTAA↑]</td>\n",
       "      <td></td>\n",
       "    </tr>\n",
       "    <tr>\n",
       "      <th>P6</th>\n",
       "      <td></td>\n",
       "      <td></td>\n",
       "      <td></td>\n",
       "      <td></td>\n",
       "      <td></td>\n",
       "      <td></td>\n",
       "      <td></td>\n",
       "      <td></td>\n",
       "      <td></td>\n",
       "      <td>[XXCCX↓]</td>\n",
       "      <td>[XXTAA↑]</td>\n",
       "      <td></td>\n",
       "    </tr>\n",
       "    <tr>\n",
       "      <th>P7</th>\n",
       "      <td>[AXATA↑]</td>\n",
       "      <td></td>\n",
       "      <td></td>\n",
       "      <td></td>\n",
       "      <td></td>\n",
       "      <td></td>\n",
       "      <td></td>\n",
       "      <td></td>\n",
       "      <td></td>\n",
       "      <td>[XXCCX↓]</td>\n",
       "      <td></td>\n",
       "      <td></td>\n",
       "    </tr>\n",
       "  </tbody>\n",
       "</table>\n",
       "</div>"
      ],
      "text/plain": [
       "          AC GT        AG        CA CG GC        AT        GA TG        CT  \\\n",
       "P1  [XCAXX↑]                                                      [XXCCX↓]   \n",
       "P2  [XCAXX↑]     [XGAXX↓]  [CXCCA↓]                                          \n",
       "P3  [XCAXX↑]                               [XXATG↓]               [XXCCX↓]   \n",
       "P4  [XCAXX↑]                                                                 \n",
       "P5  [XCAXX↑]     [CAATX↓]                            [XGGXC↑]     [XXCCX↓]   \n",
       "P6                                                                [XXCCX↓]   \n",
       "P7  [AXATA↑]                                                      [XXCCX↓]   \n",
       "\n",
       "          TC TA  \n",
       "P1  [XXTAA↑]     \n",
       "P2  [XXTAX↑]     \n",
       "P3  [XXTAA↑]     \n",
       "P4  [XXTAX↑]     \n",
       "P5  [XXTAA↑]     \n",
       "P6  [XXTAA↑]     \n",
       "P7               "
      ]
     },
     "execution_count": 211,
     "metadata": {},
     "output_type": "execute_result"
    }
   ],
   "source": [
    "regressOverFolder(r'C:\\Users\\Guyling1\\ContextProject\\SABIN',rawMotif=False)"
   ]
  },
  {
   "cell_type": "code",
   "execution_count": null,
   "metadata": {
    "collapsed": false
   },
   "outputs": [],
   "source": [
    "#rawMotifSummarySABIN=regressOverFolder(r'C:\\Users\\Guyling1\\ContextProject\\SABIN4Fold',justNameVar=False,rawMotif=False)\n",
    "rawMotifSummarySABIN['TC']['P1']"
   ]
  },
  {
   "cell_type": "markdown",
   "metadata": {},
   "source": [
    "<h3> Only 4-fold degenerate sites</h3>"
   ]
  },
  {
   "cell_type": "code",
   "execution_count": 213,
   "metadata": {
    "collapsed": false
   },
   "outputs": [
    {
     "name": "stdout",
     "output_type": "stream",
     "text": [
      "regressionCSVOneFileK5P1.csv\n",
      "regressionCSVOneFileK5P2.csv\n",
      "regressionCSVOneFileK5P3.csv\n",
      "regressionCSVOneFileK5P4.csv\n",
      "regressionCSVOneFileK5P5.csv\n",
      "regressionCSVOneFileK5P6.csv\n",
      "regressionCSVOneFileK5P7.csv\n"
     ]
    },
    {
     "data": {
      "text/html": [
       "<div>\n",
       "<table border=\"1\" class=\"dataframe\">\n",
       "  <thead>\n",
       "    <tr style=\"text-align: right;\">\n",
       "      <th></th>\n",
       "      <th>AC</th>\n",
       "      <th>GT</th>\n",
       "      <th>AG</th>\n",
       "      <th>CA</th>\n",
       "      <th>CG</th>\n",
       "      <th>GC</th>\n",
       "      <th>AT</th>\n",
       "      <th>GA</th>\n",
       "      <th>TG</th>\n",
       "      <th>CT</th>\n",
       "      <th>TC</th>\n",
       "      <th>TA</th>\n",
       "    </tr>\n",
       "  </thead>\n",
       "  <tbody>\n",
       "    <tr>\n",
       "      <th>P1</th>\n",
       "      <td></td>\n",
       "      <td></td>\n",
       "      <td></td>\n",
       "      <td></td>\n",
       "      <td></td>\n",
       "      <td></td>\n",
       "      <td></td>\n",
       "      <td></td>\n",
       "      <td>[XXTGX↓]</td>\n",
       "      <td></td>\n",
       "      <td></td>\n",
       "      <td>[XGTTX↑]</td>\n",
       "    </tr>\n",
       "    <tr>\n",
       "      <th>P2</th>\n",
       "      <td>[XCAXX↑]</td>\n",
       "      <td></td>\n",
       "      <td></td>\n",
       "      <td></td>\n",
       "      <td></td>\n",
       "      <td></td>\n",
       "      <td></td>\n",
       "      <td>[GTGXX↓]</td>\n",
       "      <td>[XXTTX↑, XTTAG↑]</td>\n",
       "      <td>[XXCGX↑]</td>\n",
       "      <td></td>\n",
       "      <td></td>\n",
       "    </tr>\n",
       "    <tr>\n",
       "      <th>P3</th>\n",
       "      <td>[XCAXX↑]</td>\n",
       "      <td>[GXGGG↓, XXGAX↓]</td>\n",
       "      <td></td>\n",
       "      <td></td>\n",
       "      <td>[XGCXG↓]</td>\n",
       "      <td></td>\n",
       "      <td></td>\n",
       "      <td></td>\n",
       "      <td></td>\n",
       "      <td>[XXCGX↑]</td>\n",
       "      <td></td>\n",
       "      <td></td>\n",
       "    </tr>\n",
       "    <tr>\n",
       "      <th>P4</th>\n",
       "      <td>[XCAXX↑]</td>\n",
       "      <td></td>\n",
       "      <td></td>\n",
       "      <td></td>\n",
       "      <td></td>\n",
       "      <td></td>\n",
       "      <td></td>\n",
       "      <td></td>\n",
       "      <td>[XXTTX↑]</td>\n",
       "      <td>[XXCGX↑]</td>\n",
       "      <td></td>\n",
       "      <td></td>\n",
       "    </tr>\n",
       "    <tr>\n",
       "      <th>P5</th>\n",
       "      <td>[XTAXX↓]</td>\n",
       "      <td></td>\n",
       "      <td></td>\n",
       "      <td></td>\n",
       "      <td></td>\n",
       "      <td></td>\n",
       "      <td></td>\n",
       "      <td></td>\n",
       "      <td></td>\n",
       "      <td></td>\n",
       "      <td>[XXTAX↑]</td>\n",
       "      <td></td>\n",
       "    </tr>\n",
       "    <tr>\n",
       "      <th>P6</th>\n",
       "      <td></td>\n",
       "      <td></td>\n",
       "      <td>[XTACC↑]</td>\n",
       "      <td></td>\n",
       "      <td></td>\n",
       "      <td></td>\n",
       "      <td>[XTAXX↓]</td>\n",
       "      <td>[XXGCX↑]</td>\n",
       "      <td>[XXTGX↓]</td>\n",
       "      <td></td>\n",
       "      <td></td>\n",
       "      <td></td>\n",
       "    </tr>\n",
       "    <tr>\n",
       "      <th>P7</th>\n",
       "      <td></td>\n",
       "      <td></td>\n",
       "      <td></td>\n",
       "      <td></td>\n",
       "      <td></td>\n",
       "      <td></td>\n",
       "      <td></td>\n",
       "      <td></td>\n",
       "      <td></td>\n",
       "      <td></td>\n",
       "      <td></td>\n",
       "      <td></td>\n",
       "    </tr>\n",
       "  </tbody>\n",
       "</table>\n",
       "</div>"
      ],
      "text/plain": [
       "          AC                GT        AG CA        CG GC        AT        GA  \\\n",
       "P1                                                                             \n",
       "P2  [XCAXX↑]                                                        [GTGXX↓]   \n",
       "P3  [XCAXX↑]  [GXGGG↓, XXGAX↓]               [XGCXG↓]                          \n",
       "P4  [XCAXX↑]                                                                   \n",
       "P5  [XTAXX↓]                                                                   \n",
       "P6                              [XTACC↑]                  [XTAXX↓]  [XXGCX↑]   \n",
       "P7                                                                             \n",
       "\n",
       "                  TG        CT        TC        TA  \n",
       "P1          [XXTGX↓]                      [XGTTX↑]  \n",
       "P2  [XXTTX↑, XTTAG↑]  [XXCGX↑]                      \n",
       "P3                    [XXCGX↑]                      \n",
       "P4          [XXTTX↑]  [XXCGX↑]                      \n",
       "P5                              [XXTAX↑]            \n",
       "P6          [XXTGX↓]                                \n",
       "P7                                                  "
      ]
     },
     "execution_count": 213,
     "metadata": {},
     "output_type": "execute_result"
    }
   ],
   "source": [
    "regressOverFolder(r'C:\\Users\\Guyling1\\ContextProject\\SABIN4Fold',rawMotif=False)"
   ]
  },
  {
   "cell_type": "code",
   "execution_count": 214,
   "metadata": {
    "collapsed": false
   },
   "outputs": [
    {
     "name": "stdout",
     "output_type": "stream",
     "text": [
      "regressionCSVOneFileK5P1.csv\n",
      "regressionCSVOneFileK5P2.csv\n",
      "regressionCSVOneFileK5P3.csv\n",
      "regressionCSVOneFileK5P4.csv\n",
      "regressionCSVOneFileK5P5.csv\n",
      "regressionCSVOneFileK5P6.csv\n",
      "regressionCSVOneFileK5P7.csv\n"
     ]
    },
    {
     "data": {
      "text/plain": [
       "[('P2__T',\n",
       "  5.1166970087139269e-11,\n",
       "  -1.2738445365645075,\n",
       "  -1.6162220420032734,\n",
       "  -0.93146703112574147)]"
      ]
     },
     "execution_count": 214,
     "metadata": {},
     "output_type": "execute_result"
    }
   ],
   "source": [
    "rawMotifSummarySABIN4Fold=regressOverFolder(r'C:\\Users\\Guyling1\\ContextProject\\SABIN4Fold',justNameVar=False,rawMotif=True)\n",
    "rawMotifSummarySABIN4Fold.loc['P5']['AC']"
   ]
  },
  {
   "cell_type": "markdown",
   "metadata": {},
   "source": [
    "<h3> scrambled codons</h3>\n"
   ]
  },
  {
   "cell_type": "code",
   "execution_count": 235,
   "metadata": {
    "collapsed": false
   },
   "outputs": [
    {
     "data": {
      "text/html": [
       "<div>\n",
       "<table border=\"1\" class=\"dataframe\">\n",
       "  <thead>\n",
       "    <tr style=\"text-align: right;\">\n",
       "      <th></th>\n",
       "      <th>AC</th>\n",
       "      <th>GT</th>\n",
       "      <th>AG</th>\n",
       "      <th>CA</th>\n",
       "      <th>CG</th>\n",
       "      <th>GC</th>\n",
       "      <th>AT</th>\n",
       "      <th>GA</th>\n",
       "      <th>TG</th>\n",
       "      <th>CT</th>\n",
       "      <th>TC</th>\n",
       "      <th>TA</th>\n",
       "    </tr>\n",
       "  </thead>\n",
       "  <tbody>\n",
       "    <tr>\n",
       "      <th>P1</th>\n",
       "      <td></td>\n",
       "      <td></td>\n",
       "      <td></td>\n",
       "      <td></td>\n",
       "      <td></td>\n",
       "      <td></td>\n",
       "      <td>[XTAGX↑]</td>\n",
       "      <td></td>\n",
       "      <td></td>\n",
       "      <td></td>\n",
       "      <td></td>\n",
       "      <td></td>\n",
       "    </tr>\n",
       "    <tr>\n",
       "      <th>P2</th>\n",
       "      <td></td>\n",
       "      <td></td>\n",
       "      <td></td>\n",
       "      <td></td>\n",
       "      <td>[TXCGX↑]</td>\n",
       "      <td></td>\n",
       "      <td>[XTAGX↑]</td>\n",
       "      <td></td>\n",
       "      <td></td>\n",
       "      <td></td>\n",
       "      <td></td>\n",
       "      <td></td>\n",
       "    </tr>\n",
       "    <tr>\n",
       "      <th>P3</th>\n",
       "      <td></td>\n",
       "      <td></td>\n",
       "      <td>[XXAGX↑]</td>\n",
       "      <td></td>\n",
       "      <td></td>\n",
       "      <td></td>\n",
       "      <td></td>\n",
       "      <td></td>\n",
       "      <td></td>\n",
       "      <td></td>\n",
       "      <td></td>\n",
       "      <td></td>\n",
       "    </tr>\n",
       "    <tr>\n",
       "      <th>P4</th>\n",
       "      <td></td>\n",
       "      <td></td>\n",
       "      <td></td>\n",
       "      <td></td>\n",
       "      <td></td>\n",
       "      <td></td>\n",
       "      <td></td>\n",
       "      <td></td>\n",
       "      <td></td>\n",
       "      <td></td>\n",
       "      <td></td>\n",
       "      <td></td>\n",
       "    </tr>\n",
       "    <tr>\n",
       "      <th>P5</th>\n",
       "      <td></td>\n",
       "      <td></td>\n",
       "      <td></td>\n",
       "      <td></td>\n",
       "      <td></td>\n",
       "      <td></td>\n",
       "      <td></td>\n",
       "      <td></td>\n",
       "      <td></td>\n",
       "      <td></td>\n",
       "      <td></td>\n",
       "      <td></td>\n",
       "    </tr>\n",
       "    <tr>\n",
       "      <th>P6</th>\n",
       "      <td></td>\n",
       "      <td></td>\n",
       "      <td></td>\n",
       "      <td></td>\n",
       "      <td></td>\n",
       "      <td></td>\n",
       "      <td></td>\n",
       "      <td>[AAGAX↑]</td>\n",
       "      <td></td>\n",
       "      <td></td>\n",
       "      <td></td>\n",
       "      <td></td>\n",
       "    </tr>\n",
       "    <tr>\n",
       "      <th>P7</th>\n",
       "      <td></td>\n",
       "      <td></td>\n",
       "      <td></td>\n",
       "      <td></td>\n",
       "      <td></td>\n",
       "      <td></td>\n",
       "      <td></td>\n",
       "      <td></td>\n",
       "      <td></td>\n",
       "      <td></td>\n",
       "      <td></td>\n",
       "      <td></td>\n",
       "    </tr>\n",
       "  </tbody>\n",
       "</table>\n",
       "</div>"
      ],
      "text/plain": [
       "   AC GT        AG CA        CG GC        AT        GA TG CT TC TA\n",
       "P1                                  [XTAGX↑]                      \n",
       "P2                     [TXCGX↑]     [XTAGX↑]                      \n",
       "P3        [XXAGX↑]                                                \n",
       "P4                                                                \n",
       "P5                                                                \n",
       "P6                                            [AAGAX↑]            \n",
       "P7                                                                "
      ]
     },
     "execution_count": 235,
     "metadata": {},
     "output_type": "execute_result"
    }
   ],
   "source": [
    "regressOverFolder(r'C:\\Users\\Guyling1\\ContextProject\\SABINscrambled',rawMotif=False)"
   ]
  },
  {
   "cell_type": "code",
   "execution_count": 236,
   "metadata": {
    "collapsed": false
   },
   "outputs": [
    {
     "data": {
      "text/plain": [
       "''"
      ]
     },
     "execution_count": 236,
     "metadata": {},
     "output_type": "execute_result"
    }
   ],
   "source": [
    "rawMotifSummarySABINScrambled=regressOverFolder(r'C:\\Users\\Guyling1\\ContextProject\\SABINscrambled',justNameVar=False,rawMotif=True)\n",
    "rawMotifSummarySABINScrambled.loc['P4']['TC']"
   ]
  },
  {
   "cell_type": "markdown",
   "metadata": {},
   "source": [
    "<h2>SD analysis</h2>\n",
    "<h3> regular sample </h3>\n"
   ]
  },
  {
   "cell_type": "code",
   "execution_count": 224,
   "metadata": {
    "collapsed": false
   },
   "outputs": [
    {
     "data": {
      "text/html": [
       "<div>\n",
       "<table border=\"1\" class=\"dataframe\">\n",
       "  <thead>\n",
       "    <tr style=\"text-align: right;\">\n",
       "      <th></th>\n",
       "      <th>AC</th>\n",
       "      <th>GT</th>\n",
       "      <th>AG</th>\n",
       "      <th>CA</th>\n",
       "      <th>CG</th>\n",
       "      <th>GC</th>\n",
       "      <th>AT</th>\n",
       "      <th>GA</th>\n",
       "      <th>TG</th>\n",
       "      <th>CT</th>\n",
       "      <th>TC</th>\n",
       "      <th>TA</th>\n",
       "    </tr>\n",
       "  </thead>\n",
       "  <tbody>\n",
       "    <tr>\n",
       "      <th>P1</th>\n",
       "      <td></td>\n",
       "      <td></td>\n",
       "      <td></td>\n",
       "      <td></td>\n",
       "      <td>[CXCGX↑]</td>\n",
       "      <td></td>\n",
       "      <td></td>\n",
       "      <td></td>\n",
       "      <td></td>\n",
       "      <td>[XACAG↑]</td>\n",
       "      <td>[XXTCX↓]</td>\n",
       "      <td></td>\n",
       "    </tr>\n",
       "    <tr>\n",
       "      <th>P2</th>\n",
       "      <td></td>\n",
       "      <td></td>\n",
       "      <td></td>\n",
       "      <td></td>\n",
       "      <td></td>\n",
       "      <td></td>\n",
       "      <td></td>\n",
       "      <td></td>\n",
       "      <td></td>\n",
       "      <td></td>\n",
       "      <td>[XXTAX↑]</td>\n",
       "      <td></td>\n",
       "    </tr>\n",
       "    <tr>\n",
       "      <th>P3</th>\n",
       "      <td></td>\n",
       "      <td></td>\n",
       "      <td></td>\n",
       "      <td></td>\n",
       "      <td>[CXCGX↑]</td>\n",
       "      <td></td>\n",
       "      <td></td>\n",
       "      <td></td>\n",
       "      <td>[XGTXX↑]</td>\n",
       "      <td></td>\n",
       "      <td>[XXTAX↑]</td>\n",
       "      <td></td>\n",
       "    </tr>\n",
       "    <tr>\n",
       "      <th>P4</th>\n",
       "      <td></td>\n",
       "      <td></td>\n",
       "      <td>[XXAGX↑]</td>\n",
       "      <td></td>\n",
       "      <td>[CXCGX↑]</td>\n",
       "      <td></td>\n",
       "      <td></td>\n",
       "      <td>[XCGXX↑]</td>\n",
       "      <td>[CGTGX↑]</td>\n",
       "      <td>[CACAX↑, XXCCX↓]</td>\n",
       "      <td>[XXTAX↑]</td>\n",
       "      <td></td>\n",
       "    </tr>\n",
       "    <tr>\n",
       "      <th>P5</th>\n",
       "      <td></td>\n",
       "      <td></td>\n",
       "      <td></td>\n",
       "      <td></td>\n",
       "      <td></td>\n",
       "      <td></td>\n",
       "      <td></td>\n",
       "      <td>[XCGXX↑]</td>\n",
       "      <td></td>\n",
       "      <td></td>\n",
       "      <td>[XXTAX↑]</td>\n",
       "      <td></td>\n",
       "    </tr>\n",
       "    <tr>\n",
       "      <th>P6</th>\n",
       "      <td></td>\n",
       "      <td></td>\n",
       "      <td>[GTAXX↑]</td>\n",
       "      <td></td>\n",
       "      <td>[CXCGX↑]</td>\n",
       "      <td></td>\n",
       "      <td></td>\n",
       "      <td>[XCGXX↑]</td>\n",
       "      <td></td>\n",
       "      <td></td>\n",
       "      <td>[XXTAX↑]</td>\n",
       "      <td></td>\n",
       "    </tr>\n",
       "    <tr>\n",
       "      <th>P7</th>\n",
       "      <td></td>\n",
       "      <td></td>\n",
       "      <td></td>\n",
       "      <td></td>\n",
       "      <td></td>\n",
       "      <td></td>\n",
       "      <td>[GXAXX↑]</td>\n",
       "      <td>[XCGXX↑]</td>\n",
       "      <td>[CGTGX↑]</td>\n",
       "      <td></td>\n",
       "      <td>[XXTAX↑]</td>\n",
       "      <td></td>\n",
       "    </tr>\n",
       "  </tbody>\n",
       "</table>\n",
       "</div>"
      ],
      "text/plain": [
       "   AC GT        AG CA        CG GC        AT        GA        TG  \\\n",
       "P1                     [CXCGX↑]                                    \n",
       "P2                                                                 \n",
       "P3                     [CXCGX↑]                         [XGTXX↑]   \n",
       "P4        [XXAGX↑]     [CXCGX↑]               [XCGXX↑]  [CGTGX↑]   \n",
       "P5                                            [XCGXX↑]             \n",
       "P6        [GTAXX↑]     [CXCGX↑]               [XCGXX↑]             \n",
       "P7                                  [GXAXX↑]  [XCGXX↑]  [CGTGX↑]   \n",
       "\n",
       "                  CT        TC TA  \n",
       "P1          [XACAG↑]  [XXTCX↓]     \n",
       "P2                    [XXTAX↑]     \n",
       "P3                    [XXTAX↑]     \n",
       "P4  [CACAX↑, XXCCX↓]  [XXTAX↑]     \n",
       "P5                    [XXTAX↑]     \n",
       "P6                    [XXTAX↑]     \n",
       "P7                    [XXTAX↑]     "
      ]
     },
     "execution_count": 224,
     "metadata": {},
     "output_type": "execute_result"
    }
   ],
   "source": [
    "regressOverFolder(r'C:\\Users\\Guyling1\\ContextProject\\SD',justNameVar=True,rawMotif=False)"
   ]
  },
  {
   "cell_type": "code",
   "execution_count": 225,
   "metadata": {
    "collapsed": false
   },
   "outputs": [
    {
     "data": {
      "text/plain": [
       "[('P1_P4__CG',\n",
       "  2.0911829518537129e-05,\n",
       "  2.1248303269263702,\n",
       "  1.2076911355587672,\n",
       "  3.041969518293973)]"
      ]
     },
     "execution_count": 225,
     "metadata": {},
     "output_type": "execute_result"
    }
   ],
   "source": [
    "#rawMotifSummarySD=regressOverFolder(r'C:\\Users\\Guyling1\\ContextProject\\SD',justNameVar=False,rawMotif=True)\n",
    "rawMotifSummarySD.loc['P6']['CG']"
   ]
  },
  {
   "cell_type": "markdown",
   "metadata": {},
   "source": [
    "<h3> Only 4-fold degenerate sites</h3>"
   ]
  },
  {
   "cell_type": "code",
   "execution_count": 226,
   "metadata": {
    "collapsed": false
   },
   "outputs": [
    {
     "data": {
      "text/html": [
       "<div>\n",
       "<table border=\"1\" class=\"dataframe\">\n",
       "  <thead>\n",
       "    <tr style=\"text-align: right;\">\n",
       "      <th></th>\n",
       "      <th>AC</th>\n",
       "      <th>GT</th>\n",
       "      <th>AG</th>\n",
       "      <th>CA</th>\n",
       "      <th>CG</th>\n",
       "      <th>GC</th>\n",
       "      <th>AT</th>\n",
       "      <th>GA</th>\n",
       "      <th>TG</th>\n",
       "      <th>CT</th>\n",
       "      <th>TC</th>\n",
       "      <th>TA</th>\n",
       "    </tr>\n",
       "  </thead>\n",
       "  <tbody>\n",
       "    <tr>\n",
       "      <th>P1</th>\n",
       "      <td></td>\n",
       "      <td></td>\n",
       "      <td>[XTAXX↑]</td>\n",
       "      <td></td>\n",
       "      <td>[CXCGX↑]</td>\n",
       "      <td></td>\n",
       "      <td></td>\n",
       "      <td></td>\n",
       "      <td></td>\n",
       "      <td></td>\n",
       "      <td></td>\n",
       "      <td></td>\n",
       "    </tr>\n",
       "    <tr>\n",
       "      <th>P2</th>\n",
       "      <td></td>\n",
       "      <td></td>\n",
       "      <td>[GTAXX↑]</td>\n",
       "      <td></td>\n",
       "      <td>[CXCGG↑]</td>\n",
       "      <td></td>\n",
       "      <td></td>\n",
       "      <td></td>\n",
       "      <td>[XGTXX↑]</td>\n",
       "      <td>[XGCCA↑]</td>\n",
       "      <td></td>\n",
       "      <td></td>\n",
       "    </tr>\n",
       "    <tr>\n",
       "      <th>P3</th>\n",
       "      <td></td>\n",
       "      <td></td>\n",
       "      <td>[GTAXX↑]</td>\n",
       "      <td></td>\n",
       "      <td></td>\n",
       "      <td></td>\n",
       "      <td>[GGAXC↑]</td>\n",
       "      <td></td>\n",
       "      <td></td>\n",
       "      <td></td>\n",
       "      <td>[XXTAX↑]</td>\n",
       "      <td></td>\n",
       "    </tr>\n",
       "    <tr>\n",
       "      <th>P4</th>\n",
       "      <td></td>\n",
       "      <td></td>\n",
       "      <td>[GTAXX↑]</td>\n",
       "      <td></td>\n",
       "      <td></td>\n",
       "      <td></td>\n",
       "      <td></td>\n",
       "      <td></td>\n",
       "      <td>[CGTGX↑]</td>\n",
       "      <td></td>\n",
       "      <td>[XXTAX↑]</td>\n",
       "      <td></td>\n",
       "    </tr>\n",
       "    <tr>\n",
       "      <th>P5</th>\n",
       "      <td></td>\n",
       "      <td></td>\n",
       "      <td>[GTAXX↑]</td>\n",
       "      <td>[XTCAG↓]</td>\n",
       "      <td></td>\n",
       "      <td></td>\n",
       "      <td>[XGAXC↑]</td>\n",
       "      <td></td>\n",
       "      <td></td>\n",
       "      <td></td>\n",
       "      <td>[XXTAX↑]</td>\n",
       "      <td></td>\n",
       "    </tr>\n",
       "    <tr>\n",
       "      <th>P6</th>\n",
       "      <td></td>\n",
       "      <td></td>\n",
       "      <td>[GTAXX↑]</td>\n",
       "      <td></td>\n",
       "      <td></td>\n",
       "      <td></td>\n",
       "      <td></td>\n",
       "      <td></td>\n",
       "      <td></td>\n",
       "      <td>[XGCCA↑]</td>\n",
       "      <td>[XXTAX↑, XXTXG↓]</td>\n",
       "      <td></td>\n",
       "    </tr>\n",
       "    <tr>\n",
       "      <th>P7</th>\n",
       "      <td></td>\n",
       "      <td></td>\n",
       "      <td>[GTAXX↑]</td>\n",
       "      <td></td>\n",
       "      <td></td>\n",
       "      <td></td>\n",
       "      <td>[CXAXX↓]</td>\n",
       "      <td></td>\n",
       "      <td></td>\n",
       "      <td></td>\n",
       "      <td>[XXTAX↑]</td>\n",
       "      <td>[GXTCA↑]</td>\n",
       "    </tr>\n",
       "  </tbody>\n",
       "</table>\n",
       "</div>"
      ],
      "text/plain": [
       "   AC GT        AG        CA        CG GC        AT GA        TG        CT  \\\n",
       "P1        [XTAXX↑]            [CXCGX↑]                                       \n",
       "P2        [GTAXX↑]            [CXCGG↑]                  [XGTXX↑]  [XGCCA↑]   \n",
       "P3        [GTAXX↑]                         [GGAXC↑]                          \n",
       "P4        [GTAXX↑]                                      [CGTGX↑]             \n",
       "P5        [GTAXX↑]  [XTCAG↓]               [XGAXC↑]                          \n",
       "P6        [GTAXX↑]                                                [XGCCA↑]   \n",
       "P7        [GTAXX↑]                         [CXAXX↓]                          \n",
       "\n",
       "                  TC        TA  \n",
       "P1                              \n",
       "P2                              \n",
       "P3          [XXTAX↑]            \n",
       "P4          [XXTAX↑]            \n",
       "P5          [XXTAX↑]            \n",
       "P6  [XXTAX↑, XXTXG↓]            \n",
       "P7          [XXTAX↑]  [GXTCA↑]  "
      ]
     },
     "execution_count": 226,
     "metadata": {},
     "output_type": "execute_result"
    }
   ],
   "source": [
    "regressOverFolder(r'C:\\Users\\Guyling1\\ContextProject\\SD4Fold',justNameVar=True,rawMotif=False)"
   ]
  },
  {
   "cell_type": "code",
   "execution_count": 227,
   "metadata": {
    "collapsed": false
   },
   "outputs": [
    {
     "data": {
      "text/plain": [
       "''"
      ]
     },
     "execution_count": 227,
     "metadata": {},
     "output_type": "execute_result"
    }
   ],
   "source": [
    "#rawMotifSummarySD4Fold=regressOverFolder(r'C:\\Users\\Guyling1\\ContextProject\\SD4Fold',justNameVar=False,rawMotif=True)\n",
    "rawMotifSummarySD4Fold.loc['P6']['AC']"
   ]
  },
  {
   "cell_type": "markdown",
   "metadata": {},
   "source": [
    "<h3> scrambled codons</h3>\n"
   ]
  },
  {
   "cell_type": "code",
   "execution_count": 62,
   "metadata": {
    "collapsed": false
   },
   "outputs": [
    {
     "data": {
      "text/html": [
       "<div>\n",
       "<table border=\"1\" class=\"dataframe\">\n",
       "  <thead>\n",
       "    <tr style=\"text-align: right;\">\n",
       "      <th></th>\n",
       "      <th>AC</th>\n",
       "      <th>GT</th>\n",
       "      <th>AG</th>\n",
       "      <th>CA</th>\n",
       "      <th>CG</th>\n",
       "      <th>GC</th>\n",
       "      <th>AT</th>\n",
       "      <th>GA</th>\n",
       "      <th>TG</th>\n",
       "      <th>CT</th>\n",
       "      <th>TC</th>\n",
       "      <th>TA</th>\n",
       "    </tr>\n",
       "  </thead>\n",
       "  <tbody>\n",
       "    <tr>\n",
       "      <th>P1</th>\n",
       "      <td></td>\n",
       "      <td></td>\n",
       "      <td></td>\n",
       "      <td>[XXCGX↑]</td>\n",
       "      <td></td>\n",
       "      <td></td>\n",
       "      <td></td>\n",
       "      <td></td>\n",
       "      <td></td>\n",
       "      <td></td>\n",
       "      <td></td>\n",
       "      <td></td>\n",
       "    </tr>\n",
       "    <tr>\n",
       "      <th>P2</th>\n",
       "      <td>[XAAGT↑]</td>\n",
       "      <td>[XCGTX↑]</td>\n",
       "      <td></td>\n",
       "      <td></td>\n",
       "      <td></td>\n",
       "      <td></td>\n",
       "      <td></td>\n",
       "      <td></td>\n",
       "      <td></td>\n",
       "      <td></td>\n",
       "      <td></td>\n",
       "      <td></td>\n",
       "    </tr>\n",
       "    <tr>\n",
       "      <th>P3</th>\n",
       "      <td></td>\n",
       "      <td>[XCGTX↑]</td>\n",
       "      <td></td>\n",
       "      <td></td>\n",
       "      <td></td>\n",
       "      <td></td>\n",
       "      <td></td>\n",
       "      <td></td>\n",
       "      <td></td>\n",
       "      <td></td>\n",
       "      <td></td>\n",
       "      <td></td>\n",
       "    </tr>\n",
       "    <tr>\n",
       "      <th>P4</th>\n",
       "      <td></td>\n",
       "      <td></td>\n",
       "      <td>[XGACX↓]</td>\n",
       "      <td></td>\n",
       "      <td>[XXCGC↑, CXCXA↑, XGCTX↑]</td>\n",
       "      <td></td>\n",
       "      <td>[XCAXC↑]</td>\n",
       "      <td></td>\n",
       "      <td></td>\n",
       "      <td>[XXCGX↑]</td>\n",
       "      <td></td>\n",
       "      <td></td>\n",
       "    </tr>\n",
       "    <tr>\n",
       "      <th>P5</th>\n",
       "      <td></td>\n",
       "      <td>[XCGTX↑]</td>\n",
       "      <td>[XGACX↓]</td>\n",
       "      <td></td>\n",
       "      <td></td>\n",
       "      <td></td>\n",
       "      <td></td>\n",
       "      <td>[XXGAX↓, AXGAC↓]</td>\n",
       "      <td></td>\n",
       "      <td></td>\n",
       "      <td></td>\n",
       "      <td></td>\n",
       "    </tr>\n",
       "    <tr>\n",
       "      <th>P6</th>\n",
       "      <td></td>\n",
       "      <td>[XCGTX↑]</td>\n",
       "      <td></td>\n",
       "      <td></td>\n",
       "      <td></td>\n",
       "      <td></td>\n",
       "      <td></td>\n",
       "      <td>[CAGAX↓]</td>\n",
       "      <td></td>\n",
       "      <td></td>\n",
       "      <td></td>\n",
       "      <td></td>\n",
       "    </tr>\n",
       "    <tr>\n",
       "      <th>P7</th>\n",
       "      <td></td>\n",
       "      <td></td>\n",
       "      <td>[XGACX↓]</td>\n",
       "      <td></td>\n",
       "      <td></td>\n",
       "      <td></td>\n",
       "      <td></td>\n",
       "      <td>[XXGAX↓, CXGAT↓, CAGAX↓]</td>\n",
       "      <td></td>\n",
       "      <td></td>\n",
       "      <td></td>\n",
       "      <td></td>\n",
       "    </tr>\n",
       "  </tbody>\n",
       "</table>\n",
       "</div>"
      ],
      "text/plain": [
       "          AC        GT        AG        CA                        CG GC  \\\n",
       "P1                                [XXCGX↑]                                \n",
       "P2  [XAAGT↑]  [XCGTX↑]                                                    \n",
       "P3            [XCGTX↑]                                                    \n",
       "P4                      [XGACX↓]            [XXCGC↑, CXCXA↑, XGCTX↑]      \n",
       "P5            [XCGTX↑]  [XGACX↓]                                          \n",
       "P6            [XCGTX↑]                                                    \n",
       "P7                      [XGACX↓]                                          \n",
       "\n",
       "          AT                        GA TG        CT TC TA  \n",
       "P1                                                         \n",
       "P2                                                         \n",
       "P3                                                         \n",
       "P4  [XCAXC↑]                               [XXCGX↑]        \n",
       "P5                    [XXGAX↓, AXGAC↓]                     \n",
       "P6                            [CAGAX↓]                     \n",
       "P7            [XXGAX↓, CXGAT↓, CAGAX↓]                     "
      ]
     },
     "execution_count": 62,
     "metadata": {},
     "output_type": "execute_result"
    }
   ],
   "source": [
    "regressOverFolder(r'C:\\Users\\Guyling1\\ContextProject\\SDscrambled',justNameVar=True,rawMotif=False)"
   ]
  },
  {
   "cell_type": "code",
   "execution_count": 21,
   "metadata": {
    "collapsed": false
   },
   "outputs": [
    {
     "data": {
      "text/plain": [
       "''"
      ]
     },
     "execution_count": 21,
     "metadata": {},
     "output_type": "execute_result"
    }
   ],
   "source": [
    "#rawMotifSummarySDscrambled=regressOverFolder(r'C:\\Users\\Guyling1\\ContextProject\\SDscrambled',justNameVar=False,rawMotif=True)\n",
    "rawMotifSummarySDscrambled.loc['P4']['TC']"
   ]
  },
  {
   "cell_type": "code",
   "execution_count": 238,
   "metadata": {
    "collapsed": false
   },
   "outputs": [],
   "source": [
    "\n",
    "#rawMotifSummary=regressOverFolder(r'C:\\Users\\Guyling1\\ContextProject\\SABINnull',justNameVar=False,rawMotif=True)\n",
    "#regressOverFolder(r'C:\\Users\\Guyling1\\ContextProject\\SABINnull',rawMotif=False)"
   ]
  },
  {
   "cell_type": "code",
   "execution_count": 239,
   "metadata": {
    "collapsed": false
   },
   "outputs": [],
   "source": [
    "#regressOverFolder(r'C:\\Users\\Guyling1\\ContextProject\\SABIN4FoldScrambled',rawMotif=False)"
   ]
  },
  {
   "cell_type": "code",
   "execution_count": 240,
   "metadata": {
    "collapsed": false
   },
   "outputs": [],
   "source": [
    "#rawMotifSummary.loc['P4']['TA']"
   ]
  },
  {
   "cell_type": "markdown",
   "metadata": {},
   "source": [
    "## 5.Motif Analsys"
   ]
  },
  {
   "cell_type": "markdown",
   "metadata": {},
   "source": [
    "### Comparing Histograms of sequences with the motif and sequences without the motif"
   ]
  },
  {
   "cell_type": "code",
   "execution_count": 45,
   "metadata": {
    "collapsed": false
   },
   "outputs": [],
   "source": [
    "def seperateMotifAndNonMotif(motif,data,mutationType):\n",
    "    data=data[data['mutationType']==mutationType]\n",
    "    nonMotifData=data[data[motif]==0]\n",
    "    motifData=data[data[motif]==1]\n",
    "    print motifData.prob\n",
    "    return motifData,nonMotifData,motif\n",
    "\n",
    "def histOfMotfAndNonMotif(motif,nonMotif,motifName):\n",
    "    motifProb=pd.Series(motif.prob)\n",
    "    nonMotifProb=pd.Series(nonMotif.prob)\n",
    "    df=pd.DataFrame({'Motif':motifProb,'nonMotif':nonMotifProb},columns=['Motif','nonMotif'])\n",
    "    plt.figure()\n",
    "    motifProb.plot.kde()\n",
    "    nonMotifProb.plot.kde()\n",
    "    plt.title(\"{} motif analysis\".format(motifName))\n",
    "    print motifProb.mean(),nonMotifProb.mean()\n",
    "    plt.text(-11,0.4,\"motif mean=%.2f\" % motifProb.mean())\n",
    "    plt.text (-11,0.3,\"nonMotif mean=%.2f\" % nonMotifProb.mean())"
   ]
  },
  {
   "cell_type": "code",
   "execution_count": null,
   "metadata": {
    "collapsed": false
   },
   "outputs": [],
   "source": []
  },
  {
   "cell_type": "markdown",
   "metadata": {
    "collapsed": true
   },
   "source": [
    "More data about the motifs that could give an idea about other factors influencing the substitution rates other than the motifs"
   ]
  },
  {
   "cell_type": "code",
   "execution_count": 456,
   "metadata": {
    "collapsed": false
   },
   "outputs": [],
   "source": [
    "\n",
    "def parseSeq(seqLocation,codingStart,codingEnd):\n",
    "    fasta_sequences = SeqIO.parse(open(seqLocation),'fasta')\n",
    "    for fasta in fasta_sequences:\n",
    "        consensus= fasta.seq[codingStart:codingEnd]\n",
    "        return consensus\n",
    "\n",
    "def isSynMutation(seq,kmer,offset,k=5):\n",
    "    originalSeq=str(seq)\n",
    "    mutatedSeq=str(seq)  \n",
    "    mutatedSeqList=list(mutatedSeq)\n",
    "    mutatedSeqList[offset-k//2:offset+k//2+1]=list(kmer)\n",
    "    mutatedSeq=\"\".join(mutatedSeqList)\n",
    "    return translate(originalSeq)==translate(mutatedSeq)\n",
    "    \n",
    "def checkMotiflocations(seq,motif,mutationType):\n",
    "    locations=[]\n",
    "    motif=featureToMotiff(motif,mutationType,toString=False)\n",
    "    k=len(motif)\n",
    "    #print motif\n",
    "    allIndices=set([i for i in range(k)])\n",
    "    freeIndices=set([i for i, x in enumerate(motif) if x == \"X\"])\n",
    "    #print freeIndices\n",
    "    checkIndices=list(allIndices-freeIndices)\n",
    "    #print checkIndices\n",
    "    for i in range(k//2,len(seq)-k//2):\n",
    "        isMotif=True\n",
    "        compared=list(seq[i-k//2:i+k//2+1])\n",
    "        #print compared\n",
    "        for position in checkIndices:\n",
    "            #print (compared[position],motif[position])\n",
    "            if compared[position]!=motif[position]:\n",
    "                isMotif=False\n",
    "                break\n",
    "        comparedAfterMutation=compared\n",
    "        comparedAfterMutation[k//2]=mutationType[1]\n",
    "        if (isMotif and isSynMutation(seq,comparedAfterMutation,i)):\n",
    "            locations.append(i)\n",
    "    return locations\n",
    "\n",
    "def is4FoldDegenerate(seq,location,k=5):\n",
    "    compared=list(seq[location-k//2:location+k//2+1])\n",
    "    for nuc in NUCS:\n",
    "        compared[k//2]=nuc\n",
    "        if not(isSynMutation(seq,compared,location)):\n",
    "            return False\n",
    "    return True\n",
    "\n",
    "\n",
    "def iterateOverLocationsList(function,seq,locations,k=5):\n",
    "    resList=[]\n",
    "    for location in locations:\n",
    "        if function(seq,location):\n",
    "            resList.append(location)\n",
    "    return resList\n",
    "            \n",
    "def hyperGeoTest(M,n,locations,TrueLocations):\n",
    "    rv = hypergeom(M, n, locations)\n",
    "    moreThanTrue=[rv.pmf(TrueLocation) for TrueLocation in range(TrueLocations,locations+1)]\n",
    "    #print moreThanTrue\n",
    "    return sum(moreThanTrue)\n",
    "\n",
    "def checkHyperGeometricForAllMotifs(motifTable,function,M,n,seq,thrashold=0.05):\n",
    "    sigHG={}\n",
    "    mutations=motifTable.columns\n",
    "    for mt in mutations:\n",
    "        lenn=len(motifTable[mt])\n",
    "        tableByMt=motifTable[mt]\n",
    "        for i in range(lenn):\n",
    "            cellMotifs=tableByMt[i]\n",
    "            if cellMotifs!=\"\":\n",
    "                for motif in cellMotifs:\n",
    "                    #print motif\n",
    "                    allLocations=checkMotiflocations(seq,motif,mt)\n",
    "                    #print len(allLocations)\n",
    "                    trueLocations=iterateOverLocationsList(function,seq,allLocations)\n",
    "                    #print len(trueLocations)\n",
    "                    pvalue=hyperGeoTest(M,n,len(allLocations),len(trueLocations))\n",
    "                    #print pvalue\n",
    "                    if (featureToMotiff(motif,mt),mt) in sigHG.keys():\n",
    "                        continue\n",
    "                    if (pvalue < thrashold):\n",
    "                        sigHG[(featureToMotiff(motif,mt),mt)]=pvalue\n",
    "    return pd.DataFrame(sigHG.items(),columns=['motif_mutationType','HG test PV'])"
   ]
  },
  {
   "cell_type": "markdown",
   "metadata": {},
   "source": [
    "<h3>4-fold Degenerate sites enrichment</h3>\n",
    "\n",
    "We want to check the if there is any kind of enrichment for 4-fold degenerate site. in order to do this we will preform a HG test when $n=994$ is the number of 4-fold degenerate sites within the coding region and $M=2345$ possible sites of synonymous mutation.\n",
    "\n",
    "<b>There appears to be an significant large number of 4-fold degenerate sites in many of the motif we found as having an effect on mutation rate</b>"
   ]
  },
  {
   "cell_type": "code",
   "execution_count": 246,
   "metadata": {
    "collapsed": false
   },
   "outputs": [],
   "source": [
    "#cons=parseSeq(r'C:\\Users\\Guyling1\\ContextProject\\AggarwalaPaper\\sabin2.full_genome.U882C.A2973G.C4905U.C5526U.fasta',747,7638)\n",
    "#checkHyperGeometricForAllMotifs(rawMotifSummary,is4FoldDegenerate,2345,994,cons)"
   ]
  },
  {
   "cell_type": "code",
   "execution_count": 237,
   "metadata": {
    "collapsed": false
   },
   "outputs": [],
   "source": [
    "\n",
    "def createLinePlotByMTForFolder(folder):\n",
    "    os.chdir(folder)\n",
    "    files=glob.glob(\"*.csv\")\n",
    "    firstTable=pd.read_csv(files[0])\n",
    "    mutTuple=pd.Series(firstTable.index).apply(lambda x: firstTable.loc[x]['kmer']+\" \"+firstTable.loc[x]['mutationType'])\n",
    "    passeges=[fileToPassege(fileName) for fileName in files]\n",
    "    sumTable=pd.DataFrame('',index=mutTuple,columns=passeges)\n",
    "    for f in files:\n",
    "        name=fileToPassege(f)\n",
    "        tempTable=pd.read_csv(f)\n",
    "        sumTable[name]=tempTable['prob'].values\n",
    "    plt.figure()\n",
    "    sumTable.transpose().to_csv(folder+\"\\summary.csv\")\n",
    "\n",
    "#createLinePlotByMTForFolder(r'C:\\Users\\Guyling1\\ContextProject\\refactoredCode')\n",
    "        \n",
    "        \n",
    "        \n",
    "        \n",
    "    \n",
    "    "
   ]
  }
 ],
 "metadata": {
  "kernelspec": {
   "display_name": "Python 2",
   "language": "python",
   "name": "python2"
  },
  "language_info": {
   "codemirror_mode": {
    "name": "ipython",
    "version": 2
   },
   "file_extension": ".py",
   "mimetype": "text/x-python",
   "name": "python",
   "nbconvert_exporter": "python",
   "pygments_lexer": "ipython2",
   "version": "2.7.11"
  }
 },
 "nbformat": 4,
 "nbformat_minor": 0
}
